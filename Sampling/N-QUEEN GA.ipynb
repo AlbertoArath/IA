{
 "cells": [
  {
   "cell_type": "markdown",
   "id": "44b7cfb1",
   "metadata": {},
   "source": [
    "## Define Constants"
   ]
  },
  {
   "cell_type": "code",
   "execution_count": 1,
   "id": "0cc0108a",
   "metadata": {},
   "outputs": [],
   "source": [
    "import numpy as np\n",
    "\n",
    "n_queens = 8\n",
    "n_generations = 1000\n",
    "population_size = 100\n",
    "mutation_rate = 0.05\n",
    "crossover_rate = 0.7\n",
    "\n",
    "np.random.seed(23)"
   ]
  },
  {
   "cell_type": "markdown",
   "id": "3524c622",
   "metadata": {},
   "source": [
    "## Define Auxiliary Functions"
   ]
  },
  {
   "cell_type": "code",
   "execution_count": 2,
   "id": "cb48a925",
   "metadata": {},
   "outputs": [],
   "source": [
    "def create_initial_population():\n",
    "    \"\"\"\n",
    "    Start with a random population\n",
    "    \"\"\"\n",
    "    return np.random.randint(0, high=n_queens, size=(population_size, n_queens), dtype=int)"
   ]
  },
  {
   "cell_type": "code",
   "execution_count": 3,
   "id": "9b6b6254",
   "metadata": {},
   "outputs": [],
   "source": [
    "def row_score(individual):\n",
    "    \"\"\"\n",
    "    Counts the number of queens in the same row \n",
    "    \"\"\"\n",
    "    score = 0\n",
    "    rows_dict = {}\n",
    "    for row in individual:\n",
    "        rows_dict[row] = rows_dict.get(row, 0) + 1\n",
    "        score += 1\n",
    "        \n",
    "    return score - len(rows_dict)"
   ]
  },
  {
   "cell_type": "code",
   "execution_count": 4,
   "id": "147a386e",
   "metadata": {},
   "outputs": [],
   "source": [
    "def count_diagonal(row, col, row_speed, col_speed, individual):\n",
    "    \"\"\"\n",
    "    Auxiliary function to count the number of queens in a given direction\n",
    "    \"\"\"\n",
    "    count = 0\n",
    "    row += row_speed\n",
    "    col += col_speed\n",
    "    while (row >= 0 and row < n_queens and col >= 0 and col < n_queens):\n",
    "        if individual[col] == row:\n",
    "            count += 1\n",
    "        \n",
    "        row += row_speed\n",
    "        col += col_speed\n",
    "    \n",
    "    return count\n",
    "\n",
    "def diagonal_score(individual):\n",
    "    \"\"\"\n",
    "    Count the number of queens in the four diagonals\n",
    "    \"\"\"\n",
    "    score = 0\n",
    "    for col in range (n_queens):\n",
    "        row = individual[col]\n",
    "        score += count_diagonal(row, col, -1, -1, individual)\n",
    "        score += count_diagonal(row, col, -1, 1, individual)\n",
    "        score += count_diagonal(row, col, 1, 1, individual)\n",
    "        score += count_diagonal(row, col, 1, -1, individual)\n",
    "    \n",
    "    return score"
   ]
  },
  {
   "cell_type": "code",
   "execution_count": 5,
   "id": "dbbdf6ad",
   "metadata": {},
   "outputs": [],
   "source": [
    "def fitness(individual):\n",
    "    \"\"\"\n",
    "    The score of an individual is the number of queens in the same row and in the four diagonals\n",
    "    \"\"\"\n",
    "    return row_score(individual) + diagonal_score(individual)"
   ]
  },
  {
   "cell_type": "code",
   "execution_count": 6,
   "id": "dac5dc05",
   "metadata": {},
   "outputs": [],
   "source": [
    "def tournament_selection(pop):\n",
    "    \"\"\"\n",
    "    Select two individuals randomly and survives the best of the two. \n",
    "    \"\"\"\n",
    "    new_pop = np.zeros(pop.shape, dtype=int)\n",
    "    for i in range(population_size):\n",
    "        ind_a = np.random.randint(0, high=population_size, dtype=int)\n",
    "        ind_b = np.random.randint(0, high=population_size, dtype=int)\n",
    "        \n",
    "        if (fitness(pop[ind_a, :]) < fitness(pop[ind_b, :])):\n",
    "            new_pop[i, :] = pop[ind_a, :]\n",
    "        else:\n",
    "            new_pop[i, :] = pop[ind_b, :]\n",
    "    \n",
    "    return new_pop"
   ]
  },
  {
   "cell_type": "code",
   "execution_count": 7,
   "id": "d8b4e95d",
   "metadata": {},
   "outputs": [],
   "source": [
    "def crossover(pop):\n",
    "    \"\"\"\n",
    "    Executes the crossover operation. With a certain probability two random indviduals create offspring.\n",
    "    Otherwise, both individuals pass to the next generation.\n",
    "    \"\"\"\n",
    "    new_pop = np.zeros(pop.shape, dtype=int)\n",
    "    for i in range(population_size // 2):\n",
    "        ind_a = np.random.randint(0, high=population_size, dtype=int)\n",
    "        ind_b = np.random.randint(0, high=population_size, dtype=int)\n",
    "        \n",
    "        if np.random.uniform(low=0.0, high=1.0) < crossover_rate:\n",
    "            crossover_point = np.random.randint(1, high=n_queens, dtype=int)\n",
    "            new_pop[2*i, :crossover_point] = pop[ind_a, :crossover_point]\n",
    "            new_pop[2*i, crossover_point:] = pop[ind_b, crossover_point:]\n",
    "            \n",
    "            new_pop[2*i + 1, :crossover_point] = pop[ind_b, :crossover_point]\n",
    "            new_pop[2*i + 1, crossover_point:] = pop[ind_a, crossover_point:]\n",
    "        else:\n",
    "            new_pop[2*i, :] = pop[ind_a, :]\n",
    "            new_pop[2*i + 1, :] = pop[ind_b, :]\n",
    "    \n",
    "    return new_pop\n",
    "    "
   ]
  },
  {
   "cell_type": "code",
   "execution_count": 8,
   "id": "4e4dcb9e",
   "metadata": {},
   "outputs": [],
   "source": [
    "def mutate_row(row):\n",
    "    \"\"\"\n",
    "    Changes a specific value of an individual with a random value according to the mutation probability.\n",
    "    \"\"\"\n",
    "    if np.random.uniform(low=0.0, high=1.0) < mutation_rate:\n",
    "        return np.random.randint(0, high=n_queens, dtype=int)\n",
    "    return row\n",
    "\n",
    "\n",
    "def mutation(pop):\n",
    "    \"\"\"\n",
    "    Executes the mutation operation with the whole population\n",
    "    \"\"\"\n",
    "    new_pop = np.zeros(pop.shape, dtype=int)\n",
    "    for i in range(population_size):\n",
    "        new_pop[i, :] = np.array([mutate_row(row) for row in pop[i, :]])\n",
    "        \n",
    "    return new_pop"
   ]
  },
  {
   "cell_type": "markdown",
   "id": "25893f42",
   "metadata": {},
   "source": [
    "## Testing the Functions"
   ]
  },
  {
   "cell_type": "code",
   "execution_count": 9,
   "id": "a406d549",
   "metadata": {},
   "outputs": [
    {
     "name": "stdout",
     "output_type": "stream",
     "text": [
      "(100, 8)\n",
      "[[3 6 0 1 6 0 7 5]\n",
      " [4 3 7 2 1 3 6 3]\n",
      " [5 4 1 2 3 5 5 0]\n",
      " [4 5 0 1 7 2 6 1]\n",
      " [3 1 3 7 7 4 1 1]]\n"
     ]
    }
   ],
   "source": [
    "population = create_initial_population()\n",
    "print(population.shape)\n",
    "print(population[:5, :])"
   ]
  },
  {
   "cell_type": "code",
   "execution_count": 10,
   "id": "05acc664",
   "metadata": {},
   "outputs": [
    {
     "data": {
      "text/plain": [
       "8"
      ]
     },
     "execution_count": 10,
     "metadata": {},
     "output_type": "execute_result"
    }
   ],
   "source": [
    "fitness(population[0, :])"
   ]
  },
  {
   "cell_type": "code",
   "execution_count": 11,
   "id": "41f45f34",
   "metadata": {},
   "outputs": [
    {
     "data": {
      "text/plain": [
       "array([[7, 1, 7, 3, 4, 0, 5, 5],\n",
       "       [5, 2, 1, 6, 1, 7, 1, 2],\n",
       "       [3, 1, 3, 7, 7, 4, 1, 1],\n",
       "       [5, 2, 5, 2, 4, 4, 0, 6],\n",
       "       [0, 6, 1, 1, 6, 1, 5, 6]])"
      ]
     },
     "execution_count": 11,
     "metadata": {},
     "output_type": "execute_result"
    }
   ],
   "source": [
    "selected_population = tournament_selection(population)\n",
    "selected_population[:5, :]"
   ]
  },
  {
   "cell_type": "code",
   "execution_count": 12,
   "id": "04abbb5e",
   "metadata": {},
   "outputs": [
    {
     "data": {
      "text/plain": [
       "array([[1, 2, 6, 6, 7, 3, 4, 2],\n",
       "       [2, 1, 6, 6, 1, 0, 7, 4],\n",
       "       [0, 7, 0, 0, 6, 1, 6, 1],\n",
       "       [2, 1, 6, 4, 0, 7, 1, 4],\n",
       "       [2, 1, 1, 6, 1, 0, 7, 4]])"
      ]
     },
     "execution_count": 12,
     "metadata": {},
     "output_type": "execute_result"
    }
   ],
   "source": [
    "crossover_population = crossover(selected_population)\n",
    "crossover_population[:5, :]"
   ]
  },
  {
   "cell_type": "code",
   "execution_count": 13,
   "id": "33ed5051",
   "metadata": {},
   "outputs": [
    {
     "data": {
      "text/plain": [
       "array([[1, 2, 6, 6, 7, 3, 4, 2],\n",
       "       [2, 1, 6, 6, 1, 0, 7, 4],\n",
       "       [0, 7, 0, 5, 6, 1, 6, 1],\n",
       "       [2, 1, 6, 4, 0, 7, 1, 4],\n",
       "       [2, 1, 1, 6, 1, 0, 7, 4]])"
      ]
     },
     "execution_count": 13,
     "metadata": {},
     "output_type": "execute_result"
    }
   ],
   "source": [
    "mutation_population = mutation(crossover_population)\n",
    "mutation_population[:5, :]"
   ]
  },
  {
   "cell_type": "markdown",
   "id": "9e48cfed",
   "metadata": {},
   "source": [
    "## Run the Genetic Algorithm\n",
    "\n",
    "1. Create an initial population\n",
    "1. Selection of the new population (The stronger wins)\n",
    "1. Crossover Operation (Generates Offspring)\n",
    "1. Mutation Operation (Changes certain values with a small probability)\n",
    "1. Move to step 2 until convergence."
   ]
  },
  {
   "cell_type": "code",
   "execution_count": 14,
   "id": "db823686",
   "metadata": {},
   "outputs": [
    {
     "name": "stdout",
     "output_type": "stream",
     "text": [
      "1 : best fitness =  3\n",
      "2 : best fitness =  4\n",
      "3 : best fitness =  4\n",
      "4 : best fitness =  4\n",
      "5 : best fitness =  3\n",
      "6 : best fitness =  3\n",
      "7 : best fitness =  3\n",
      "8 : best fitness =  2\n",
      "9 : best fitness =  1\n",
      "10 : best fitness =  2\n",
      "11 : best fitness =  2\n",
      "12 : best fitness =  1\n",
      "13 : best fitness =  1\n",
      "14 : best fitness =  1\n",
      "15 : best fitness =  1\n",
      "16 : best fitness =  1\n",
      "17 : best fitness =  1\n",
      "18 : best fitness =  1\n",
      "19 : best fitness =  1\n",
      "20 : best fitness =  1\n",
      "21 : best fitness =  1\n",
      "22 : best fitness =  1\n",
      "23 : best fitness =  1\n",
      "24 : best fitness =  1\n",
      "25 : best fitness =  1\n",
      "26 : best fitness =  1\n",
      "27 : best fitness =  1\n",
      "28 : best fitness =  1\n",
      "29 : best fitness =  1\n",
      "30 : best fitness =  1\n",
      "31 : best fitness =  1\n",
      "32 : best fitness =  1\n",
      "33 : best fitness =  0\n",
      "\n",
      "best individual =  [3 1 4 7 5 0 2 6]\n",
      "best fitness:  0\n"
     ]
    }
   ],
   "source": [
    "## RUN The Genetic Algorithm\n",
    "\n",
    "population = create_initial_population()\n",
    "\n",
    "for gen in range(n_generations):\n",
    "    population = tournament_selection(population)\n",
    "    population = crossover(population)\n",
    "    population = mutation(population)\n",
    "    \n",
    "    best_individual = min(population, key=lambda x: fitness(x))\n",
    "    print(gen + 1,  \": best fitness = \", fitness(best_individual))\n",
    "    \n",
    "    if (fitness(best_individual) == 0):\n",
    "        break\n",
    "\n",
    "print(\"\\nbest individual = \", best_individual)\n",
    "print(\"best fitness: \", fitness(best_individual))"
   ]
  },
  {
   "cell_type": "code",
   "execution_count": null,
   "id": "23c5af2e",
   "metadata": {},
   "outputs": [],
   "source": []
  },
  {
   "cell_type": "code",
   "execution_count": null,
   "id": "e383c4e6",
   "metadata": {},
   "outputs": [],
   "source": []
  },
  {
   "cell_type": "code",
   "execution_count": null,
   "id": "98de981e",
   "metadata": {},
   "outputs": [],
   "source": []
  }
 ],
 "metadata": {
  "kernelspec": {
   "display_name": "Python 3 (ipykernel)",
   "language": "python",
   "name": "python3"
  },
  "language_info": {
   "codemirror_mode": {
    "name": "ipython",
    "version": 3
   },
   "file_extension": ".py",
   "mimetype": "text/x-python",
   "name": "python",
   "nbconvert_exporter": "python",
   "pygments_lexer": "ipython3",
   "version": "3.8.15"
  }
 },
 "nbformat": 4,
 "nbformat_minor": 5
}
