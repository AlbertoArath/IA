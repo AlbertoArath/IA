{
  "cells": [
    {
      "cell_type": "code",
      "execution_count": 2,
      "metadata": {
        "id": "UuIEix7hvg11"
      },
      "outputs": [],
      "source": [
        "import numpy as np\n",
        "import pandas as pd\n",
        "from pandas import Series, DataFrame"
      ]
    },
    {
      "cell_type": "code",
      "execution_count": 3,
      "metadata": {
        "colab": {
          "base_uri": "https://localhost:8080/"
        },
        "id": "xS87qgQ6vvjg",
        "outputId": "67285ded-7fe5-40fc-caac-6e9cf03c9900"
      },
      "outputs": [
        {
          "data": {
            "text/plain": [
              "['Jalisco',\n",
              " 'Jalisco',\n",
              " 'Jalisco',\n",
              " 'Jalisco',\n",
              " 'Colima',\n",
              " 'Colima',\n",
              " 'Colima',\n",
              " 'Colima']"
            ]
          },
          "execution_count": 3,
          "metadata": {},
          "output_type": "execute_result"
        }
      ],
      "source": [
        "estados= [\"Jalisco\"]*4 +[\"Colima\"]*4\n",
        "estados"
      ]
    },
    {
      "cell_type": "code",
      "execution_count": 4,
      "metadata": {
        "colab": {
          "base_uri": "https://localhost:8080/"
        },
        "id": "y_wcEcHBv_Qb",
        "outputId": "5a78ccb8-0f75-4cd9-fa5c-8aaed47a5dfc"
      },
      "outputs": [
        {
          "data": {
            "text/plain": [
              "[2000, 2005, 2010, 2020, 2000, 2005, 2010, 2020]"
            ]
          },
          "execution_count": 4,
          "metadata": {},
          "output_type": "execute_result"
        }
      ],
      "source": [
        "años= [2000,2005,2010,2020]*2\n",
        "años"
      ]
    },
    {
      "cell_type": "code",
      "execution_count": 5,
      "metadata": {
        "colab": {
          "base_uri": "https://localhost:8080/"
        },
        "id": "g4UWp87MwF_m",
        "outputId": "c0457a96-563b-4af7-d59e-3ea0347393b8"
      },
      "outputs": [
        {
          "data": {
            "text/plain": [
              "(['Jalisco',\n",
              "  'Jalisco',\n",
              "  'Jalisco',\n",
              "  'Jalisco',\n",
              "  'Colima',\n",
              "  'Colima',\n",
              "  'Colima',\n",
              "  'Colima'],\n",
              " [2000, 2005, 2010, 2020, 2000, 2005, 2010, 2020],\n",
              " [6.32, 6.75, 7.35, 8.34, 0.54, 0.57, 0.65, 0.73])"
            ]
          },
          "execution_count": 5,
          "metadata": {},
          "output_type": "execute_result"
        }
      ],
      "source": [
        "poblaciones= [6.32, 6.75, 7.35, 8.34] + [0.54, .57, .65, .73 ]\n",
        "estados, años, poblaciones"
      ]
    },
    {
      "cell_type": "code",
      "execution_count": null,
      "metadata": {
        "id": "pkhWGNn6wmxy"
      },
      "outputs": [],
      "source": []
    },
    {
      "cell_type": "code",
      "execution_count": 6,
      "metadata": {
        "colab": {
          "base_uri": "https://localhost:8080/"
        },
        "id": "0O3cro5zwV_n",
        "outputId": "5e0b4f0f-6e04-428a-c5bf-e46c6b926922"
      },
      "outputs": [
        {
          "data": {
            "text/plain": [
              "{'Estado': ['Jalisco',\n",
              "  'Jalisco',\n",
              "  'Jalisco',\n",
              "  'Jalisco',\n",
              "  'Colima',\n",
              "  'Colima',\n",
              "  'Colima',\n",
              "  'Colima'],\n",
              " 'Año': [2000, 2005, 2010, 2020, 2000, 2005, 2010, 2020],\n",
              " 'Población': [6.32, 6.75, 7.35, 8.34, 0.54, 0.57, 0.65, 0.73]}"
            ]
          },
          "execution_count": 6,
          "metadata": {},
          "output_type": "execute_result"
        }
      ],
      "source": [
        "datos= {\"Estado\": estados, \"Año\": años, \"Población\": poblaciones}\n",
        "datos"
      ]
    },
    {
      "cell_type": "code",
      "execution_count": 7,
      "metadata": {
        "colab": {
          "base_uri": "https://localhost:8080/",
          "height": 300
        },
        "id": "-YbH95I2wibX",
        "outputId": "dfcb5fbb-b937-4977-ad25-d42efab7f6b0"
      },
      "outputs": [
        {
          "data": {
            "text/html": [
              "<div>\n",
              "<style scoped>\n",
              "    .dataframe tbody tr th:only-of-type {\n",
              "        vertical-align: middle;\n",
              "    }\n",
              "\n",
              "    .dataframe tbody tr th {\n",
              "        vertical-align: top;\n",
              "    }\n",
              "\n",
              "    .dataframe thead th {\n",
              "        text-align: right;\n",
              "    }\n",
              "</style>\n",
              "<table border=\"1\" class=\"dataframe\">\n",
              "  <thead>\n",
              "    <tr style=\"text-align: right;\">\n",
              "      <th></th>\n",
              "      <th>Estado</th>\n",
              "      <th>Año</th>\n",
              "      <th>Población</th>\n",
              "    </tr>\n",
              "  </thead>\n",
              "  <tbody>\n",
              "    <tr>\n",
              "      <th>0</th>\n",
              "      <td>Jalisco</td>\n",
              "      <td>2000</td>\n",
              "      <td>6.32</td>\n",
              "    </tr>\n",
              "    <tr>\n",
              "      <th>1</th>\n",
              "      <td>Jalisco</td>\n",
              "      <td>2005</td>\n",
              "      <td>6.75</td>\n",
              "    </tr>\n",
              "    <tr>\n",
              "      <th>2</th>\n",
              "      <td>Jalisco</td>\n",
              "      <td>2010</td>\n",
              "      <td>7.35</td>\n",
              "    </tr>\n",
              "    <tr>\n",
              "      <th>3</th>\n",
              "      <td>Jalisco</td>\n",
              "      <td>2020</td>\n",
              "      <td>8.34</td>\n",
              "    </tr>\n",
              "    <tr>\n",
              "      <th>4</th>\n",
              "      <td>Colima</td>\n",
              "      <td>2000</td>\n",
              "      <td>0.54</td>\n",
              "    </tr>\n",
              "    <tr>\n",
              "      <th>5</th>\n",
              "      <td>Colima</td>\n",
              "      <td>2005</td>\n",
              "      <td>0.57</td>\n",
              "    </tr>\n",
              "    <tr>\n",
              "      <th>6</th>\n",
              "      <td>Colima</td>\n",
              "      <td>2010</td>\n",
              "      <td>0.65</td>\n",
              "    </tr>\n",
              "    <tr>\n",
              "      <th>7</th>\n",
              "      <td>Colima</td>\n",
              "      <td>2020</td>\n",
              "      <td>0.73</td>\n",
              "    </tr>\n",
              "  </tbody>\n",
              "</table>\n",
              "</div>"
            ],
            "text/plain": [
              "    Estado   Año  Población\n",
              "0  Jalisco  2000       6.32\n",
              "1  Jalisco  2005       6.75\n",
              "2  Jalisco  2010       7.35\n",
              "3  Jalisco  2020       8.34\n",
              "4   Colima  2000       0.54\n",
              "5   Colima  2005       0.57\n",
              "6   Colima  2010       0.65\n",
              "7   Colima  2020       0.73"
            ]
          },
          "execution_count": 7,
          "metadata": {},
          "output_type": "execute_result"
        }
      ],
      "source": [
        "df1=DataFrame(datos)\n",
        "df1"
      ]
    },
    {
      "cell_type": "code",
      "execution_count": null,
      "metadata": {
        "id": "fPMC51vxwoV7"
      },
      "outputs": [],
      "source": []
    },
    {
      "cell_type": "code",
      "execution_count": null,
      "metadata": {
        "id": "mCle2CQh2pd5"
      },
      "outputs": [],
      "source": []
    }
  ],
  "metadata": {
    "colab": {
      "provenance": []
    },
    "kernelspec": {
      "display_name": "Python 3",
      "name": "python3"
    },
    "language_info": {
      "codemirror_mode": {
        "name": "ipython",
        "version": 3
      },
      "file_extension": ".py",
      "mimetype": "text/x-python",
      "name": "python",
      "nbconvert_exporter": "python",
      "pygments_lexer": "ipython3",
      "version": "3.11.1"
    }
  },
  "nbformat": 4,
  "nbformat_minor": 0
}
