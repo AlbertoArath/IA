{
  "nbformat": 4,
  "nbformat_minor": 0,
  "metadata": {
    "colab": {
      "provenance": []
    },
    "kernelspec": {
      "name": "python3",
      "display_name": "Python 3"
    },
    "language_info": {
      "name": "python"
    }
  },
  "cells": [
    {
      "cell_type": "markdown",
      "source": [
        "# Instrucciones\n",
        "El archivo _melate.csv_ contiene los datos de la bolsa acumulada del concurso Melate desde el primero de enero de 1995, concurso que se celebra todos los miércoles, viernes y domingo.  \n",
        "Si un día no hubo concurso, estará marcado en el archivo como un par de comillas dobles.  \n",
        "Si nadie gana el concurso, se acumulan las ganancias para el siguiente sorteo.  \n",
        "Si alguien gana el sorteo, la siguiente fecha inicia con una bolsa mínima, que para sorteos seguidos suele ser la misma.\n",
        "\n",
        "1. Importa el archivo desde [https://raw.githubusercontent.com/DRMiguelAR/Herramientas_Analisis/master/melate.csv](https://raw.githubusercontent.com/DRMiguelAR/Herramientas_Analisis/master/melate.csv)  \n",
        "1. Abre el archivo y convierte la serie de datos a una Serie de pandas.\n",
        "1. Genera una serie con todos lo miércoles, viernes y domingos a partir del primero de enero de 1995 hasta el 28 de septiembre de 2022.  \n",
        "1. Agrega esta serie de fechas como índice a las bolsas del melate.\n",
        "1. Encuentra cuántos valores vacíos y cuantos valores válidos tiene la serie.\n",
        "1. Filtra los valores vacíos de la serie, para sólo quedarte con los valores válidos\n",
        "1. Encuentra algunas estadísticas de la serie, para cada una, genera un campo en el que describas qué significa el resultado obtenido.\n",
        "\n",
        ">> count, min, max, argmin, argmax, idxmin, idxmax, quantile, sum, mean, median, mode, var, std, skew, kurt, cumsum, cummin, cummax, diff, pct_change, histogram, describe\n",
        "\n",
        "8. Contesta las siguientes preguntas:  \n",
        "    a. ¿Cuál es la mayor cantidad de sorteos que han pasado sin obtener un ganador?  \n",
        "    a. ¿Cuál es la vez en que ha habido ganadores de melate más próximos?\n"
      ],
      "metadata": {
        "id": "zSzze_BaymYP"
      }
    },
    {
      "cell_type": "code",
      "execution_count": null,
      "metadata": {
        "id": "7PBBzs96vRaG",
        "colab": {
          "base_uri": "https://localhost:8080/",
          "height": 665
        },
        "outputId": "af2b395c-5500-49b7-b4a7-5bb622b90899"
      },
      "outputs": [
        {
          "output_type": "stream",
          "name": "stdout",
          "text": [
            "--2024-09-07 20:09:50--  https://raw.githubusercontent.com/DRMiguelAR/Herramientas_Analisis/master/melate.csv\n",
            "Resolving raw.githubusercontent.com (raw.githubusercontent.com)... 185.199.111.133, 185.199.110.133, 185.199.109.133, ...\n",
            "Connecting to raw.githubusercontent.com (raw.githubusercontent.com)|185.199.111.133|:443... connected.\n",
            "HTTP request sent, awaiting response... 200 OK\n",
            "Length: 36503 (36K) [text/plain]\n",
            "Saving to: ‘melate.csv.52’\n",
            "\n",
            "\rmelate.csv.52         0%[                    ]       0  --.-KB/s               \rmelate.csv.52       100%[===================>]  35.65K  --.-KB/s    in 0.01s   \n",
            "\n",
            "2024-09-07 20:09:50 (3.27 MB/s) - ‘melate.csv.52’ saved [36503/36503]\n",
            "\n",
            "valid values 2906\n",
            "Non valid data 1437\n",
            "largest_strike 121\n"
          ]
        },
        {
          "output_type": "stream",
          "name": "stderr",
          "text": [
            "<ipython-input-58-0d84d25bdc3e>:34: FutureWarning: Series.__getitem__ treating keys as positions is deprecated. In a future version, integer keys will always be treated as labels (consistent with DataFrame behavior). To access a value by position, use `ser.iloc[pos]`\n",
            "  prev = historic_list[0]\n",
            "<ipython-input-58-0d84d25bdc3e>:53: FutureWarning: Series.__getitem__ treating keys as positions is deprecated. In a future version, integer keys will always be treated as labels (consistent with DataFrame behavior). To access a value by position, use `ser.iloc[pos]`\n",
            "  prev = historic_list[0]\n"
          ]
        },
        {
          "output_type": "error",
          "ename": "AttributeError",
          "evalue": "'float' object has no attribute 'index'",
          "traceback": [
            "\u001b[0;31m---------------------------------------------------------------------------\u001b[0m",
            "\u001b[0;31mAttributeError\u001b[0m                            Traceback (most recent call last)",
            "\u001b[0;32m<ipython-input-58-0d84d25bdc3e>\u001b[0m in \u001b[0;36m<cell line: 85>\u001b[0;34m()\u001b[0m\n\u001b[1;32m     83\u001b[0m \u001b[0mprint\u001b[0m \u001b[0;34m(\u001b[0m\u001b[0;34m\"largest_strike\"\u001b[0m\u001b[0;34m,\u001b[0m \u001b[0mlargest_strike\u001b[0m\u001b[0;34m)\u001b[0m\u001b[0;34m\u001b[0m\u001b[0;34m\u001b[0m\u001b[0m\n\u001b[1;32m     84\u001b[0m \u001b[0;34m\u001b[0m\u001b[0m\n\u001b[0;32m---> 85\u001b[0;31m \u001b[0msmall_strike\u001b[0m\u001b[0;34m,\u001b[0m \u001b[0mdate\u001b[0m \u001b[0;34m=\u001b[0m \u001b[0mfind_consecutive_win\u001b[0m \u001b[0;34m(\u001b[0m\u001b[0mclean_s1_series\u001b[0m \u001b[0;34m[\u001b[0m\u001b[0mclean_s1_series\u001b[0m \u001b[0;34m>\u001b[0m \u001b[0;36m0\u001b[0m\u001b[0;34m]\u001b[0m\u001b[0;34m)\u001b[0m\u001b[0;34m\u001b[0m\u001b[0;34m\u001b[0m\u001b[0m\n\u001b[0m\u001b[1;32m     86\u001b[0m \u001b[0mprint\u001b[0m \u001b[0;34m(\u001b[0m\u001b[0;34m\"winning strike\"\u001b[0m\u001b[0;34m,\u001b[0m \u001b[0msmall_strike\u001b[0m\u001b[0;34m)\u001b[0m\u001b[0;34m\u001b[0m\u001b[0;34m\u001b[0m\u001b[0m\n\u001b[1;32m     87\u001b[0m \u001b[0mprint\u001b[0m \u001b[0;34m(\u001b[0m\u001b[0;34m\"date\"\u001b[0m\u001b[0;34m,\u001b[0m \u001b[0msmall_strike\u001b[0m\u001b[0;34m)\u001b[0m\u001b[0;34m\u001b[0m\u001b[0;34m\u001b[0m\u001b[0m\n",
            "\u001b[0;32m<ipython-input-58-0d84d25bdc3e>\u001b[0m in \u001b[0;36mfind_consecutive_win\u001b[0;34m(historic_list)\u001b[0m\n\u001b[1;32m     64\u001b[0m     \u001b[0;31m#print (entry , prev)\u001b[0m\u001b[0;34m\u001b[0m\u001b[0;34m\u001b[0m\u001b[0m\n\u001b[1;32m     65\u001b[0m     \u001b[0;32mif\u001b[0m \u001b[0mstrike\u001b[0m \u001b[0;34m>\u001b[0m \u001b[0msmalles_strike\u001b[0m\u001b[0;34m:\u001b[0m\u001b[0;34m\u001b[0m\u001b[0;34m\u001b[0m\u001b[0m\n\u001b[0;32m---> 66\u001b[0;31m       \u001b[0mstrike_end_date_entry\u001b[0m \u001b[0;34m=\u001b[0m \u001b[0mentry\u001b[0m\u001b[0;34m.\u001b[0m\u001b[0mindex\u001b[0m\u001b[0;34m\u001b[0m\u001b[0;34m\u001b[0m\u001b[0m\n\u001b[0m\u001b[1;32m     67\u001b[0m       \u001b[0msmalles_strike\u001b[0m \u001b[0;34m=\u001b[0m \u001b[0mstrike\u001b[0m\u001b[0;34m\u001b[0m\u001b[0;34m\u001b[0m\u001b[0m\n\u001b[1;32m     68\u001b[0m     \u001b[0mprev\u001b[0m \u001b[0;34m=\u001b[0m \u001b[0mentry\u001b[0m\u001b[0;34m\u001b[0m\u001b[0;34m\u001b[0m\u001b[0m\n",
            "\u001b[0;31mAttributeError\u001b[0m: 'float' object has no attribute 'index'"
          ]
        }
      ],
      "source": [
        "## PASO 1 Y 2\n",
        "\n",
        "import pandas as pd\n",
        "from pandas import Series\n",
        "from datetime import datetime, timedelta\n",
        "\n",
        "!wget https://raw.githubusercontent.com/DRMiguelAR/Herramientas_Analisis/master/melate.csv\n",
        "s1=pd.read_csv(\"melate.csv\", header=None)[0]\n",
        "\n",
        "s1_series = pd.Series (data = s1)\n",
        "s1_series_size = s1_series.size\n",
        "#print (s1.head(20))\n",
        "\n",
        "initial_date = datetime(1995, 1, 1, 0, 0, 0)\n",
        "\n",
        "\n",
        "\n",
        "def get_date_array (initial_date, size):\n",
        "\n",
        "  #date_index = []\n",
        "  #for d in range (0, size):\n",
        "  #  date_offset = initial_date + timedelta(d)\n",
        "  #  #if (date_offset.weekday () == 2 or date_offset.weekday () == 4 or date_offset.weekday () == 6):\n",
        "  #    #print (initial_date + timedelta(d))\n",
        "  #  date_index.append (date_offset)\n",
        "\n",
        "  weekday_mask = [False, False, True, False, True, False, True]\n",
        "\n",
        "  return pd.bdate_range (start = \"1995/01/01\", end = \"2022/09/28\", freq = \"C\",  weekmask=weekday_mask)\n",
        "\n",
        "#\n",
        "# weekmask\n",
        "def find_largest_strike (historic_list):\n",
        "  prev = historic_list[0]\n",
        "  strike = 0\n",
        "  largest_strike = 0\n",
        "  for entry in historic_list:\n",
        "\n",
        "    if entry > prev:\n",
        "      #print (\"hit\")\n",
        "      strike += 1\n",
        "    else:\n",
        "      strike = 0\n",
        "\n",
        "    #print (entry , prev)\n",
        "    if strike > largest_strike:\n",
        "\n",
        "      largest_strike = strike\n",
        "    prev = entry\n",
        "  return largest_strike\n",
        "#use inplace\n",
        "def find_consecutive_win (historic_list):\n",
        "  prev = historic_list[0]\n",
        "  strike = 0\n",
        "  smalles_strike = 0\n",
        "  for entry in historic_list:\n",
        "\n",
        "    if entry <= prev:\n",
        "      #print (\"hit\")\n",
        "      strike += 1\n",
        "    else:\n",
        "      strike = 0\n",
        "    #print (entry)\n",
        "    #print (entry , prev)\n",
        "    if strike > smalles_strike:\n",
        "      strike_end_date_entry = entry.index\n",
        "      smalles_strike = strike\n",
        "    prev = entry\n",
        "  return smalles_strike, strike_end_date_entry\n",
        "\n",
        "valid_index = get_date_array (initial_date, s1_series_size)\n",
        "\n",
        "s1_series.index  = valid_index\n",
        "\n",
        "na_count = s1_series.isna().sum()\n",
        "\n",
        "print (\"valid values\", s1_series_size - na_count)\n",
        "print (\"Non valid data\", na_count)\n",
        "clean_s1_series = s1_series.dropna()\n",
        "#print (s1_series.dropna())\n",
        "\n",
        "largest_strike = find_largest_strike (clean_s1_series [clean_s1_series > 0])\n",
        "print (\"largest_strike\", largest_strike)\n",
        "\n",
        "small_strike, date = find_consecutive_win (clean_s1_series [clean_s1_series > 0])\n",
        "print (\"winning strike\", small_strike)\n",
        "print (\"date\", small_strike)\n",
        "\n"
      ]
    },
    {
      "cell_type": "code",
      "source": [
        "#\n"
      ],
      "metadata": {
        "id": "MsIHMO7E-V9p"
      },
      "execution_count": null,
      "outputs": []
    },
    {
      "cell_type": "code",
      "source": [],
      "metadata": {
        "id": "YwjllyYN-sLQ"
      },
      "execution_count": null,
      "outputs": []
    },
    {
      "cell_type": "code",
      "source": [],
      "metadata": {
        "id": "1HMSXdNf_y-e"
      },
      "execution_count": null,
      "outputs": []
    },
    {
      "cell_type": "code",
      "source": [],
      "metadata": {
        "id": "XKC_xeL_A2GD"
      },
      "execution_count": null,
      "outputs": []
    },
    {
      "cell_type": "code",
      "source": [],
      "metadata": {
        "id": "VMyPnZNNBRjH"
      },
      "execution_count": null,
      "outputs": []
    },
    {
      "cell_type": "code",
      "source": [],
      "metadata": {
        "id": "v-MJreTMB5go"
      },
      "execution_count": null,
      "outputs": []
    },
    {
      "cell_type": "code",
      "source": [],
      "metadata": {
        "id": "CI7ETwI3CdpS"
      },
      "execution_count": null,
      "outputs": []
    },
    {
      "cell_type": "code",
      "source": [],
      "metadata": {
        "id": "JgzWJdOjC_LU"
      },
      "execution_count": null,
      "outputs": []
    },
    {
      "cell_type": "code",
      "source": [],
      "metadata": {
        "id": "Xncw1M0hDIEF"
      },
      "execution_count": null,
      "outputs": []
    },
    {
      "cell_type": "code",
      "source": [],
      "metadata": {
        "id": "JlbG51hsDnuf"
      },
      "execution_count": null,
      "outputs": []
    },
    {
      "cell_type": "code",
      "source": [],
      "metadata": {
        "id": "kU_0dpuID_-m"
      },
      "execution_count": null,
      "outputs": []
    },
    {
      "cell_type": "code",
      "source": [],
      "metadata": {
        "id": "vBI1O3tIEz2k"
      },
      "execution_count": null,
      "outputs": []
    },
    {
      "cell_type": "code",
      "source": [],
      "metadata": {
        "id": "jYk1wlCgFARa"
      },
      "execution_count": null,
      "outputs": []
    }
  ]
}