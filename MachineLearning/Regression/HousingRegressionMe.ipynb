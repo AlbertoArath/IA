{
 "cells": [
  {
   "cell_type": "markdown",
   "id": "26e553c4",
   "metadata": {
    "id": "26e553c4"
   },
   "source": [
    "## Define Constants Data"
   ]
  },
  {
   "cell_type": "code",
   "execution_count": null,
   "id": "5653eba3",
   "metadata": {
    "id": "5653eba3"
   },
   "outputs": [],
   "source": [
    "import os\n",
    "import random\n",
    "\n",
    "random_seed = 32\n",
    "random.seed(random_seed)"
   ]
  },
  {
   "cell_type": "markdown",
   "id": "adbc5516",
   "metadata": {
    "id": "adbc5516"
   },
   "source": [
    "## Load Data"
   ]
  },
  {
   "cell_type": "code",
   "execution_count": 16,
   "id": "3359098c",
   "metadata": {
    "colab": {
     "base_uri": "https://localhost:8080/"
    },
    "executionInfo": {
     "elapsed": 173,
     "status": "ok",
     "timestamp": 1727492844439,
     "user": {
      "displayName": "Alberto Arath Figueroa Salomon",
      "userId": "18050222948725768603"
     },
     "user_tz": 360
    },
    "id": "3359098c",
    "outputId": "3bf347fe-1118-49e5-bc1e-5fabc7c9f63f"
   },
   "outputs": [
    {
     "name": "stdout",
     "output_type": "stream",
     "text": [
      "/content\n"
     ]
    }
   ],
   "source": [
    "import pandas as pd\n",
    "import os\n",
    "\n",
    "# List files in the current directory\n",
    "os.listdir('/content')\n",
    "print(os.getcwd())\n",
    "#housing = pd.read_csv(\"/housing/housing.csv\")"
   ]
  },
  {
   "cell_type": "markdown",
   "id": "395bf843",
   "metadata": {
    "id": "395bf843"
   },
   "source": [
    "## Analyzing the Data"
   ]
  },
  {
   "cell_type": "code",
   "execution_count": null,
   "id": "e941ae26",
   "metadata": {
    "id": "e941ae26"
   },
   "outputs": [],
   "source": [
    "housing.head()"
   ]
  },
  {
   "cell_type": "code",
   "execution_count": null,
   "id": "22545cc4",
   "metadata": {
    "id": "22545cc4"
   },
   "outputs": [],
   "source": [
    "housing.info()"
   ]
  },
  {
   "cell_type": "code",
   "execution_count": null,
   "id": "e2af621e",
   "metadata": {
    "id": "e2af621e"
   },
   "outputs": [],
   "source": [
    "housing.isna().sum()"
   ]
  },
  {
   "cell_type": "code",
   "execution_count": null,
   "id": "9ac03263",
   "metadata": {
    "id": "9ac03263"
   },
   "outputs": [],
   "source": [
    "set(housing[\"ocean_proximity\"].values)"
   ]
  },
  {
   "cell_type": "markdown",
   "id": "f5cafaa3",
   "metadata": {
    "id": "f5cafaa3"
   },
   "source": [
    "## Define Target and Explatory Variables"
   ]
  },
  {
   "cell_type": "code",
   "execution_count": null,
   "id": "cfa84155",
   "metadata": {
    "id": "cfa84155"
   },
   "outputs": [],
   "source": [
    "import numpy as np\n",
    "\n",
    "target_variable = \"median_house_value\"\n",
    "explanatory_variables = housing.columns.values.tolist()\n",
    "explanatory_variables.remove(target_variable)"
   ]
  },
  {
   "cell_type": "markdown",
   "id": "b97eaff9",
   "metadata": {
    "id": "b97eaff9"
   },
   "source": [
    "## Define Training and Test Sets"
   ]
  },
  {
   "cell_type": "code",
   "execution_count": null,
   "id": "497d7e2b",
   "metadata": {
    "id": "497d7e2b"
   },
   "outputs": [],
   "source": [
    "X = housing[explanatory_variables]\n",
    "y = housing[target_variable]\n",
    "\n",
    "print(X.shape)\n",
    "print(y.shape)"
   ]
  },
  {
   "cell_type": "code",
   "execution_count": null,
   "id": "c3cc214a",
   "metadata": {
    "id": "c3cc214a"
   },
   "outputs": [],
   "source": [
    "from sklearn.model_selection import train_test_split\n",
    "\n",
    "X_train, X_test, y_train, y_test = train_test_split(X, y, test_size=0.2, random_state=random_seed)\n",
    "\n",
    "print(X_train.shape)\n",
    "print(y_train.shape)\n",
    "print(X_test.shape)\n",
    "print(y_test.shape)"
   ]
  },
  {
   "cell_type": "markdown",
   "id": "f9def6f8",
   "metadata": {
    "id": "f9def6f8"
   },
   "source": [
    "## Define Preprocessing Pipeline"
   ]
  },
  {
   "cell_type": "markdown",
   "id": "5a5b172a",
   "metadata": {
    "id": "5a5b172a"
   },
   "source": [
    "#### Define Numerical and Categorical Variables"
   ]
  },
  {
   "cell_type": "code",
   "execution_count": null,
   "id": "15378ced",
   "metadata": {
    "id": "15378ced"
   },
   "outputs": [],
   "source": [
    "categorical_variables = [\"ocean_proximity\"]\n",
    "numerical_variables = [var for var in explanatory_variables if var not in categorical_variables]\n",
    "\n",
    "print(categorical_variables)\n",
    "print(numerical_variables)"
   ]
  },
  {
   "cell_type": "markdown",
   "id": "692391b4",
   "metadata": {
    "id": "692391b4"
   },
   "source": [
    "#### Define Custom Transformer"
   ]
  },
  {
   "cell_type": "code",
   "execution_count": null,
   "id": "45a42d8a",
   "metadata": {
    "id": "45a42d8a"
   },
   "outputs": [],
   "source": [
    "from sklearn.base import BaseEstimator, TransformerMixin\n",
    "\n",
    "class MyTransformer(BaseEstimator, TransformerMixin):\n",
    "\n",
    "    HOUSEHOLDS_IDX = 6\n",
    "    TOTAL_ROOMS_IDX = 3\n",
    "    TOTAL_BEDROOMS_IDX = 4\n",
    "    POPULATION_IDX = 5\n",
    "\n",
    "    def fit(self, X, y=None):\n",
    "        return self\n",
    "\n",
    "    def transform(self, X):\n",
    "        rooms_per_household = X[:, self.TOTAL_ROOMS_IDX] / X[:, self.HOUSEHOLDS_IDX]\n",
    "        bedrooms_per_household = X[:, self.TOTAL_BEDROOMS_IDX] / X[:, self.HOUSEHOLDS_IDX]\n",
    "        population_per_household = X[:, self.POPULATION_IDX] / X[:, self.HOUSEHOLDS_IDX]\n",
    "\n",
    "        return np.concatenate((X,\n",
    "                               rooms_per_household.reshape(-1, 1),\n",
    "                               bedrooms_per_household.reshape(-1, 1),\n",
    "                               population_per_household.reshape(-1, 1)), axis=1)"
   ]
  },
  {
   "cell_type": "markdown",
   "id": "efc005ff",
   "metadata": {
    "id": "efc005ff"
   },
   "source": [
    "#### Define Numerical Pipeline"
   ]
  },
  {
   "cell_type": "code",
   "execution_count": null,
   "id": "28ae6321",
   "metadata": {
    "id": "28ae6321"
   },
   "outputs": [],
   "source": [
    "from sklearn.pipeline import Pipeline\n",
    "from sklearn.impute import SimpleImputer\n",
    "from sklearn.preprocessing import StandardScaler\n",
    "\n",
    "numerical_pipeline = Pipeline([\n",
    "    (\"imputer\", SimpleImputer(strategy=\"mean\")),\n",
    "    (\"my_transformer\", MyTransformer()),\n",
    "    (\"scaler\", StandardScaler())\n",
    "])"
   ]
  },
  {
   "cell_type": "markdown",
   "id": "068719bd",
   "metadata": {
    "id": "068719bd"
   },
   "source": [
    "#### Define Preprocessing Pipeline"
   ]
  },
  {
   "cell_type": "code",
   "execution_count": null,
   "id": "cd9d5228",
   "metadata": {
    "id": "cd9d5228"
   },
   "outputs": [],
   "source": [
    "from sklearn.compose import ColumnTransformer\n",
    "from sklearn.preprocessing import OneHotEncoder\n",
    "\n",
    "preprocessing_pipeline = ColumnTransformer([\n",
    "    (\"num_pipeline\", numerical_pipeline, numerical_variables),\n",
    "    (\"encoder\", OneHotEncoder(), categorical_variables)\n",
    "])"
   ]
  },
  {
   "cell_type": "code",
   "execution_count": null,
   "id": "9f38b8a0",
   "metadata": {
    "id": "9f38b8a0"
   },
   "outputs": [],
   "source": [
    "X_train_transformed = preprocessing_pipeline.fit_transform(X_train)\n",
    "X_train_transformed"
   ]
  },
  {
   "cell_type": "code",
   "execution_count": null,
   "id": "0563ba1d",
   "metadata": {
    "id": "0563ba1d"
   },
   "outputs": [],
   "source": [
    "print(X_train_transformed.shape)"
   ]
  },
  {
   "cell_type": "code",
   "execution_count": null,
   "id": "7f0f2b60",
   "metadata": {
    "id": "7f0f2b60"
   },
   "outputs": [],
   "source": [
    "np.isnan(X_train_transformed).sum()"
   ]
  },
  {
   "cell_type": "markdown",
   "id": "515891f8",
   "metadata": {
    "id": "515891f8"
   },
   "source": [
    "## Define Final Pipeline"
   ]
  },
  {
   "cell_type": "code",
   "execution_count": null,
   "id": "a3a0291c",
   "metadata": {
    "id": "a3a0291c"
   },
   "outputs": [],
   "source": [
    "from sklearn.linear_model import LinearRegression\n",
    "\n",
    "regressor_pipeline = Pipeline([\n",
    "    (\"preprocessing\", preprocessing_pipeline),\n",
    "    (\"regressor\", LinearRegression())\n",
    "])"
   ]
  },
  {
   "cell_type": "code",
   "execution_count": null,
   "id": "f229ece0",
   "metadata": {
    "id": "f229ece0"
   },
   "outputs": [],
   "source": [
    "regressor_pipeline.fit(X_train, y_train)"
   ]
  },
  {
   "cell_type": "code",
   "execution_count": null,
   "id": "46ffb8ef",
   "metadata": {
    "id": "46ffb8ef"
   },
   "outputs": [],
   "source": [
    "regressor_pipeline.score(X_train, y_train)"
   ]
  },
  {
   "cell_type": "code",
   "execution_count": null,
   "id": "0418e7aa",
   "metadata": {
    "id": "0418e7aa"
   },
   "outputs": [],
   "source": [
    "regressor_pipeline.score(X_test, y_test)"
   ]
  },
  {
   "cell_type": "code",
   "execution_count": null,
   "id": "bf113801",
   "metadata": {
    "id": "bf113801"
   },
   "outputs": [],
   "source": [
    "predictions_train = regressor_pipeline.predict(X_train)\n",
    "predictions_train"
   ]
  },
  {
   "cell_type": "code",
   "execution_count": null,
   "id": "859e96e0",
   "metadata": {
    "id": "859e96e0"
   },
   "outputs": [],
   "source": [
    "predictions_test = regressor_pipeline.predict(X_test)\n",
    "predictions_test"
   ]
  },
  {
   "cell_type": "code",
   "execution_count": null,
   "id": "edf74f63",
   "metadata": {
    "id": "edf74f63"
   },
   "outputs": [],
   "source": [
    "from sklearn.metrics import mean_squared_error as mse"
   ]
  },
  {
   "cell_type": "code",
   "execution_count": null,
   "id": "8501835d",
   "metadata": {
    "id": "8501835d"
   },
   "outputs": [],
   "source": [
    "np.sqrt(mse(y_train, predictions_train))"
   ]
  },
  {
   "cell_type": "code",
   "execution_count": null,
   "id": "0ff332e6",
   "metadata": {
    "id": "0ff332e6"
   },
   "outputs": [],
   "source": [
    "np.sqrt(mse(y_test, predictions_test))"
   ]
  },
  {
   "cell_type": "code",
   "execution_count": null,
   "id": "3a0f51f5",
   "metadata": {
    "id": "3a0f51f5"
   },
   "outputs": [],
   "source": [
    "regressor_pipeline.named_steps[\"regressor\"].coef_"
   ]
  },
  {
   "cell_type": "code",
   "execution_count": null,
   "id": "1ba8bd6a",
   "metadata": {
    "id": "1ba8bd6a"
   },
   "outputs": [],
   "source": [
    "from sklearn.linear_model import LinearRegression\n",
    "\n",
    "\n",
    "Knn = Pipeline([\n",
    "    (\"preprocessing\", preprocessing_pipeline),\n",
    "    (\"regressor\", KNeighborsRegressor(n = 5))\n",
    "])\n",
    "\n",
    "Knn.fit(X_train, y_train)"
   ]
  },
  {
   "cell_type": "code",
   "execution_count": null,
   "id": "60326eb2",
   "metadata": {
    "id": "60326eb2"
   },
   "outputs": [],
   "source": []
  }
 ],
 "metadata": {
  "colab": {
   "provenance": []
  },
  "kernelspec": {
   "display_name": "Python 3 (ipykernel)",
   "language": "python",
   "name": "python3"
  },
  "language_info": {
   "codemirror_mode": {
    "name": "ipython",
    "version": 3
   },
   "file_extension": ".py",
   "mimetype": "text/x-python",
   "name": "python",
   "nbconvert_exporter": "python",
   "pygments_lexer": "ipython3",
   "version": "3.8.15"
  }
 },
 "nbformat": 4,
 "nbformat_minor": 5
}
