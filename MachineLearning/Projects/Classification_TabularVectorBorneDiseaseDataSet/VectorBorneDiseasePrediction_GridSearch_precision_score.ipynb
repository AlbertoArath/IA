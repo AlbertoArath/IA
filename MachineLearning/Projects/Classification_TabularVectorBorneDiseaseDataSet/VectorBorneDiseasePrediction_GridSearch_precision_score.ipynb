{
 "cells": [
  {
   "cell_type": "markdown",
   "metadata": {},
   "source": [
    "https://www.kaggle.com/competitions/playground-series-s3e13/data?select=test.csv\"\n",
    "\n",
    "Cool solution\n",
    "https://www.kaggle.com/code/davidcoxon/complete-eda-data-egineering-and-model-comparison"
   ]
  },
  {
   "cell_type": "code",
   "execution_count": 5,
   "metadata": {},
   "outputs": [
    {
     "name": "stdout",
     "output_type": "stream",
     "text": [
      "playground-series-s3e13.zip: Skipping, found more recently modified local copy (use --force to force download)\n"
     ]
    }
   ],
   "source": [
    "import pandas as pd\n",
    "from pathlib import Path\n",
    "from sklearn.model_selection import KFold, cross_val_score\n",
    "\n",
    "# Download latest version\n",
    "!kaggle competitions download -c playground-series-s3e13\n",
    "\n",
    "#\n",
    "#path = Path (kagglehub.dataset_download(\"https://www.kaggle.com/competitions/playground-series-s3e13/data?select=test.csv\"))\n",
    "#print (\"Path to dataset files:\", path)\n",
    "#data_set_name = Path (\"Titanic-Dataset.csv\")\n",
    "#s0 = pd.read_csv(path / data_set_name, header=None)\n",
    "#s0"
   ]
  },
  {
   "cell_type": "markdown",
   "metadata": {},
   "source": []
  },
  {
   "cell_type": "code",
   "execution_count": 6,
   "metadata": {},
   "outputs": [
    {
     "name": "stdout",
     "output_type": "stream",
     "text": [
      "Files extracted successfully!\n",
      "Shapes:\n",
      "X_train: (565, 64)\n",
      "X_test: (142, 64)\n",
      "y_train: (565,)\n",
      "y_test: (142,)\n"
     ]
    }
   ],
   "source": [
    "import zipfile \n",
    "import pandas as pd\n",
    "from sklearn.model_selection import train_test_split\n",
    "from sklearn.preprocessing import LabelEncoder\n",
    "import random\n",
    "from sklearn.pipeline import Pipeline\n",
    "import matplotlib.pyplot as plt\n",
    "from sklearn.linear_model import LogisticRegression\n",
    "import seaborn as sns\n",
    "from sklearn import svm\n",
    "from sklearn.svm import SVC\n",
    "from sklearn.ensemble import RandomForestClassifier\n",
    "from sklearn.neighbors import KNeighborsClassifier\n",
    "# GridSearchCV\n",
    "from sklearn.model_selection import GridSearchCV\n",
    "from sklearn.metrics import make_scorer, precision_score\n",
    "\n",
    "from Common import *\n",
    "# Extract all contents of the ZIP file\n",
    "\n",
    "def vbpd_attributes():\n",
    "    \n",
    "    with zipfile.ZipFile(\"playground-series-s3e13.zip\", 'r') as zip_ref:\n",
    "        zip_ref.extractall(\"playground-series-s3e13\")\n",
    "\n",
    "    print(\"Files extracted successfully!\")\n",
    "\n",
    "    test_name = Path (\"test.csv\")\n",
    "    train_name = Path (\"train.csv\")\n",
    "\n",
    "    test = pd.read_csv( \"playground-series-s3e13\" / test_name )\n",
    "    train = pd.read_csv( \"playground-series-s3e13\" / train_name )\n",
    "\n",
    "    random_seed = 32\n",
    "    random.seed(random_seed)\n",
    "\n",
    "    y = train[\"prognosis\"]\n",
    "    #y = y.to_frame()\n",
    "    X = train.drop (columns = [\"prognosis\"])\n",
    "\n",
    "    X = X.drop (columns = [\"id\"])\n",
    "\n",
    "    X_train, X_test, y_train, y_test = train_test_split (X, y, test_size=0.2, random_state=random_seed)\n",
    "\n",
    "    # Label encoding\n",
    "    label_encoder = LabelEncoder()\n",
    "    label_encoder.fit(y)  # Fit on the entire 'prognosis' column\n",
    "\n",
    "    y_train = label_encoder.transform(y_train)\n",
    "    y_test = label_encoder.transform(y_test)\n",
    "\n",
    "    y_train = y_train.squeeze()\n",
    "\n",
    "    print(\"Shapes:\")\n",
    "    print(\"X_train:\", X_train.shape)\n",
    "    print(\"X_test:\", X_test.shape)\n",
    "    print(\"y_train:\", y_train.shape)\n",
    "    print(\"y_test:\", y_test.shape)\n",
    "\n",
    "    return X_train,X_test,y_train,y_test, label_encoder\n",
    "\n",
    "X_train, X_test, y_train, y_test, label_encoder = vbpd_attributes()\n",
    "\n",
    "\n"
   ]
  },
  {
   "cell_type": "code",
   "execution_count": 7,
   "metadata": {},
   "outputs": [
    {
     "name": "stdout",
     "output_type": "stream",
     "text": [
      "Fitting 5 folds for each of 30 candidates, totalling 150 fits\n",
      "Grid Search Results:\n",
      "                                               params  mean_test_score  \\\n",
      "15  {'classifier': RandomForestClassifier(), 'clas...         0.295575   \n",
      "17  {'classifier': RandomForestClassifier(), 'clas...         0.293805   \n",
      "3   {'classifier': SVC(), 'classifier__C': 1, 'cla...         0.293805   \n",
      "14  {'classifier': RandomForestClassifier(), 'clas...         0.292035   \n",
      "9   {'classifier': RandomForestClassifier(), 'clas...         0.292035   \n",
      "7   {'classifier': RandomForestClassifier(), 'clas...         0.290265   \n",
      "16  {'classifier': RandomForestClassifier(), 'clas...         0.283186   \n",
      "12  {'classifier': RandomForestClassifier(), 'clas...         0.283186   \n",
      "0   {'classifier': SVC(), 'classifier__C': 0.1, 'c...         0.281416   \n",
      "6   {'classifier': RandomForestClassifier(), 'clas...         0.281416   \n",
      "5   {'classifier': SVC(), 'classifier__C': 10, 'cl...         0.281416   \n",
      "13  {'classifier': RandomForestClassifier(), 'clas...         0.279646   \n",
      "23  {'classifier': KNeighborsClassifier(), 'classi...         0.279646   \n",
      "8   {'classifier': RandomForestClassifier(), 'clas...         0.279646   \n",
      "11  {'classifier': RandomForestClassifier(), 'clas...         0.277876   \n",
      "10  {'classifier': RandomForestClassifier(), 'clas...         0.272566   \n",
      "21  {'classifier': KNeighborsClassifier(), 'classi...         0.263717   \n",
      "2   {'classifier': SVC(), 'classifier__C': 1, 'cla...         0.261947   \n",
      "22  {'classifier': KNeighborsClassifier(), 'classi...         0.258407   \n",
      "19  {'classifier': KNeighborsClassifier(), 'classi...         0.253097   \n",
      "25  {'classifier': LogisticRegression(max_iter=500...         0.247788   \n",
      "26  {'classifier': LogisticRegression(max_iter=500...         0.247788   \n",
      "20  {'classifier': KNeighborsClassifier(), 'classi...         0.247788   \n",
      "29  {'classifier': LogisticRegression(max_iter=500...         0.246018   \n",
      "4   {'classifier': SVC(), 'classifier__C': 10, 'cl...         0.246018   \n",
      "28  {'classifier': LogisticRegression(max_iter=500...         0.244248   \n",
      "27  {'classifier': LogisticRegression(max_iter=500...         0.242478   \n",
      "18  {'classifier': KNeighborsClassifier(), 'classi...         0.231858   \n",
      "24  {'classifier': LogisticRegression(max_iter=500...         0.224779   \n",
      "1   {'classifier': SVC(), 'classifier__C': 0.1, 'c...         0.192920   \n",
      "\n",
      "    std_test_score  rank_test_score  \n",
      "15        0.022804                1  \n",
      "17        0.017160                2  \n",
      "3         0.022666                2  \n",
      "14        0.032152                4  \n",
      "9         0.032636                4  \n",
      "7         0.028208                6  \n",
      "16        0.027985                7  \n",
      "12        0.014808                7  \n",
      "0         0.018050                9  \n",
      "6         0.017160                9  \n",
      "5         0.014159                9  \n",
      "13        0.032922               12  \n",
      "23        0.032922               13  \n",
      "8         0.043928               13  \n",
      "11        0.026608               15  \n",
      "10        0.027074               16  \n",
      "21        0.028208               17  \n",
      "2         0.028319               18  \n",
      "22        0.035132               19  \n",
      "19        0.014379               20  \n",
      "25        0.023746               21  \n",
      "26        0.030141               22  \n",
      "20        0.035838               23  \n",
      "29        0.027074               24  \n",
      "4         0.027074               25  \n",
      "28        0.024138               26  \n",
      "27        0.025403               27  \n",
      "18        0.025892               28  \n",
      "24        0.022106               29  \n",
      "1         0.024008               30  \n",
      "Best Model: Pipeline(steps=[('classifier', RandomForestClassifier(max_depth=10))])\n",
      "Best Parameters: {'classifier': RandomForestClassifier(), 'classifier__max_depth': 10, 'classifier__min_samples_split': 2, 'classifier__n_estimators': 100}\n",
      "Best Cross-Validation Score: 0.2955752212389381\n",
      "Results saved to grid_search_results.csv\n"
     ]
    }
   ],
   "source": [
    "from sklearn.metrics import accuracy_score, make_scorer\n",
    "\n",
    "param_grid = [\n",
    "    {\n",
    "        \"classifier\": [SVC()],\n",
    "        \"classifier__kernel\": [\"linear\", \"rbf\"],\n",
    "        \"classifier__C\": [0.1, 1, 10]\n",
    "    },\n",
    "    {\n",
    "        \"classifier\": [RandomForestClassifier()],\n",
    "        \"classifier__n_estimators\": [50, 100],\n",
    "        \"classifier__max_depth\": [None, 5, 10],\n",
    "        \"classifier__min_samples_split\": [2, 5]\n",
    "    },\n",
    "    {\n",
    "        \"classifier\": [KNeighborsClassifier()],\n",
    "        \"classifier__n_neighbors\": [3, 5, 7],\n",
    "        \"classifier__weights\": [\"uniform\", \"distance\"]\n",
    "    },\n",
    "    {\n",
    "        \"classifier\": [LogisticRegression(solver='saga', multi_class='ovr', max_iter=500)],\n",
    "        \"classifier__C\": [0.1, 1, 10],\n",
    "        \"classifier__penalty\": [\"l1\", \"l2\"]\n",
    "    }\n",
    "]\n",
    "\n",
    "k = 5\n",
    "kf = KFold(n_splits=k, shuffle=True, random_state=42)\n",
    "\n",
    "\n",
    "pipeline = Pipeline([\n",
    "    (\"classifier\", SVC())  # Placeholder classifier\n",
    "])\n",
    "\n",
    "scorer = make_scorer(accuracy_score)\n",
    "\n",
    "\n",
    "grid_search = GridSearchCV(\n",
    "    estimator=pipeline,\n",
    "    param_grid=param_grid,\n",
    "    cv=kf,\n",
    "    scoring=scorer,\n",
    "    verbose=2,\n",
    "    n_jobs=-1  # Use all available CPU cores\n",
    ")\n",
    "\n",
    "\n",
    "# Fit Grid Search\n",
    "grid_search.fit(X_train, y_train)\n",
    "\n",
    "\n",
    "results_df = pd.DataFrame(grid_search.cv_results_)\n",
    "# Select and display key columns\n",
    "results_df = results_df[['params', 'mean_test_score', 'std_test_score', 'rank_test_score']]\n",
    "results_df = results_df.sort_values(by='rank_test_score')\n",
    "\n",
    "# Display the table\n",
    "print(\"Grid Search Results:\")\n",
    "print(results_df)\n",
    "\n",
    "# Optional: Pretty display in Jupyter or a file\n",
    "results_df.to_csv(\"grid_search_results.csv\", index=False)  # Save results to CSV file\n",
    "\n",
    "# Print the best model and hyperparameters\n",
    "print(\"Best Model:\", grid_search.best_estimator_)\n",
    "print(\"Best Parameters:\", grid_search.best_params_)\n",
    "print(\"Best Cross-Validation Score:\", grid_search.best_score_)\n",
    "\n",
    "results_df.to_csv(\"grid_search_results.csv\", index=False)\n",
    "print(\"Results saved to grid_search_results.csv\")"
   ]
  },
  {
   "cell_type": "code",
   "execution_count": 8,
   "metadata": {},
   "outputs": [
    {
     "name": "stdout",
     "output_type": "stream",
     "text": [
      "Fitting 5 folds for each of 30 candidates, totalling 150 fits\n",
      "LaTeX table saved to RandomForestClassifier\n"
     ]
    },
    {
     "name": "stderr",
     "output_type": "stream",
     "text": [
      "C:\\Users\\Arath\\AppData\\Local\\Temp\\ipykernel_24276\\4144668653.py:51: FutureWarning: \n",
      "\n",
      "Passing `palette` without assigning `hue` is deprecated and will be removed in v0.14.0. Assign the `y` variable to `hue` and set `legend=False` for the same effect.\n",
      "\n",
      "  ax = sns.barplot(x='mean_test_score', y='hyperparam_combination', data=clf_results, palette=\"Reds_d\")\n"
     ]
    },
    {
     "name": "stdout",
     "output_type": "stream",
     "text": [
      "LaTeX table saved to SVC\n",
      "LaTeX table saved to KNeighborsClassifier\n"
     ]
    },
    {
     "name": "stderr",
     "output_type": "stream",
     "text": [
      "C:\\Users\\Arath\\AppData\\Local\\Temp\\ipykernel_24276\\4144668653.py:51: FutureWarning: \n",
      "\n",
      "Passing `palette` without assigning `hue` is deprecated and will be removed in v0.14.0. Assign the `y` variable to `hue` and set `legend=False` for the same effect.\n",
      "\n",
      "  ax = sns.barplot(x='mean_test_score', y='hyperparam_combination', data=clf_results, palette=\"Reds_d\")\n",
      "C:\\Users\\Arath\\AppData\\Local\\Temp\\ipykernel_24276\\4144668653.py:51: FutureWarning: \n",
      "\n",
      "Passing `palette` without assigning `hue` is deprecated and will be removed in v0.14.0. Assign the `y` variable to `hue` and set `legend=False` for the same effect.\n",
      "\n",
      "  ax = sns.barplot(x='mean_test_score', y='hyperparam_combination', data=clf_results, palette=\"Reds_d\")\n"
     ]
    },
    {
     "name": "stdout",
     "output_type": "stream",
     "text": [
      "LaTeX table saved to LogisticRegression\n",
      "Fitting 5 folds for each of 30 candidates, totalling 150 fits\n"
     ]
    },
    {
     "name": "stderr",
     "output_type": "stream",
     "text": [
      "C:\\Users\\Arath\\AppData\\Local\\Temp\\ipykernel_24276\\4144668653.py:51: FutureWarning: \n",
      "\n",
      "Passing `palette` without assigning `hue` is deprecated and will be removed in v0.14.0. Assign the `y` variable to `hue` and set `legend=False` for the same effect.\n",
      "\n",
      "  ax = sns.barplot(x='mean_test_score', y='hyperparam_combination', data=clf_results, palette=\"Reds_d\")\n"
     ]
    },
    {
     "name": "stdout",
     "output_type": "stream",
     "text": [
      "LaTeX table saved to RandomForestClassifier\n"
     ]
    },
    {
     "name": "stderr",
     "output_type": "stream",
     "text": [
      "C:\\Users\\Arath\\AppData\\Local\\Temp\\ipykernel_24276\\4144668653.py:51: FutureWarning: \n",
      "\n",
      "Passing `palette` without assigning `hue` is deprecated and will be removed in v0.14.0. Assign the `y` variable to `hue` and set `legend=False` for the same effect.\n",
      "\n",
      "  ax = sns.barplot(x='mean_test_score', y='hyperparam_combination', data=clf_results, palette=\"Reds_d\")\n"
     ]
    },
    {
     "name": "stdout",
     "output_type": "stream",
     "text": [
      "LaTeX table saved to SVC\n",
      "LaTeX table saved to LogisticRegression\n"
     ]
    },
    {
     "name": "stderr",
     "output_type": "stream",
     "text": [
      "C:\\Users\\Arath\\AppData\\Local\\Temp\\ipykernel_24276\\4144668653.py:51: FutureWarning: \n",
      "\n",
      "Passing `palette` without assigning `hue` is deprecated and will be removed in v0.14.0. Assign the `y` variable to `hue` and set `legend=False` for the same effect.\n",
      "\n",
      "  ax = sns.barplot(x='mean_test_score', y='hyperparam_combination', data=clf_results, palette=\"Reds_d\")\n",
      "C:\\Users\\Arath\\AppData\\Local\\Temp\\ipykernel_24276\\4144668653.py:51: FutureWarning: \n",
      "\n",
      "Passing `palette` without assigning `hue` is deprecated and will be removed in v0.14.0. Assign the `y` variable to `hue` and set `legend=False` for the same effect.\n",
      "\n",
      "  ax = sns.barplot(x='mean_test_score', y='hyperparam_combination', data=clf_results, palette=\"Reds_d\")\n"
     ]
    },
    {
     "name": "stdout",
     "output_type": "stream",
     "text": [
      "LaTeX table saved to KNeighborsClassifier\n"
     ]
    },
    {
     "name": "stderr",
     "output_type": "stream",
     "text": [
      "C:\\Users\\Arath\\AppData\\Local\\Temp\\ipykernel_24276\\4144668653.py:51: FutureWarning: \n",
      "\n",
      "Passing `palette` without assigning `hue` is deprecated and will be removed in v0.14.0. Assign the `y` variable to `hue` and set `legend=False` for the same effect.\n",
      "\n",
      "  ax = sns.barplot(x='mean_test_score', y='hyperparam_combination', data=clf_results, palette=\"Reds_d\")\n"
     ]
    }
   ],
   "source": [
    "import pandas as pd\n",
    "import seaborn as sns\n",
    "import matplotlib.pyplot as plt\n",
    "import re\n",
    "import sys\n",
    "sys.path.append(r\"C:\\Users\\Arath\\Especialidad\\MachineLearning\\Projects\\Classification_TabularVectorBorneDiseaseDataSet\")\n",
    "from Common import csv_to_latex_table\n",
    "\n",
    "# Fit Grid Search\n",
    "tests = [[X_train, y_train], [X_test, y_test]]\n",
    "labels = [\"Training Set\", \"Test Set\"]\n",
    "\n",
    "precision_scorer = make_scorer(precision_score, average='macro', zero_division=0)\n",
    "grid_search.scoring = precision_scorer\n",
    "score = \"Precision\"\n",
    "for test_sel, label in zip(tests, labels):\n",
    "\n",
    "\n",
    "    grid_search.fit(test_sel[0], test_sel[1])\n",
    "\n",
    "    # Convert GridSearchCV results to DataFrame\n",
    "    results_df = pd.DataFrame(grid_search.cv_results_)\n",
    "\n",
    "    # Extract only relevant columns: hyperparameters and scores\n",
    "    results_df = results_df[['params', 'mean_test_score', 'rank_test_score']]\n",
    "\n",
    "    # Add a string representation of hyperparameter combinations for plotting\n",
    "    results_df['classifier'] = results_df['params'].apply(lambda x: x['classifier'].__class__.__name__)\n",
    "    results_df['hyperparam_combination'] = results_df['params'].apply(\n",
    "        lambda x: re.sub(\"classifier\", \"\", re.sub(r\"[{}()_:]\", \"\", str(x)))\n",
    "    )\n",
    "    # Sort results by rank\n",
    "    results_df = results_df.sort_values(by='rank_test_score')\n",
    "\n",
    "    results_df.to_csv(\"Hyperparametersresults\"+ \".csv\", index=False)\n",
    "    columns_to_keep = ['mean_test_score', 'rank_test_score', 'hyperparam_combination']\n",
    "    # Loop through unique classifiers to create separate plots\n",
    "    for clf in results_df['classifier'].unique():\n",
    "        clf_results = results_df[results_df['classifier'] == clf]  # Filter results per classifier\n",
    "\n",
    "        #clf_table = clf_table.reset_index(drop=True)\n",
    "\n",
    "        # Plot table using Seaborn heatmap\n",
    "        #clf_table = clf_results[['mean_test_score', 'rank_test_score', 'hyperparam_combination']]\n",
    "        csv_to_latex_table (clf_results[columns_to_keep], clf)\n",
    "\n",
    "        clf_results.to_csv(clf + \".csv\", index=False)\n",
    "        filename = f\"{score} gridsearch_results_{clf}_{label.replace(' ', '_')}.png\"\n",
    "        # Plot using Seaborn\n",
    "        plt.figure(figsize=(10, 8))\n",
    "        ax = sns.barplot(x='mean_test_score', y='hyperparam_combination', data=clf_results, palette=\"Reds_d\")\n",
    "        ax.grid(True, which='both', axis='x', linestyle='--', linewidth=0.7, alpha=0.7)\n",
    "        plt.xlim(0, clf_results['mean_test_score'].max() + 0.01)\n",
    "        plt.title(f\"GridSearch Results: {clf} ({label})\")\n",
    "        plt.xlabel(\"Mean Test Score\")\n",
    "        plt.ylabel(\"Hyperparameter Combination\")\n",
    "        #plt.show()\n",
    "        plt.tight_layout()\n",
    "        plt.savefig(filename, dpi=200)\n",
    "        plt.close()\n",
    "\n",
    "    # Expand the 'params' dictionary column into separate columns\n",
    "    params_df = pd.json_normalize(results_df['params'])\n",
    "\n",
    "    # Combine expanded parameters with the original scores and ranks\n",
    "    results_combined = pd.concat([params_df, results_df[['mean_test_score', 'rank_test_score']]], axis=1)\n",
    "\n",
    "    # Sort the results by rank\n",
    "    results_combined = results_combined.sort_values(by='rank_test_score')\n",
    "\n",
    "    # Display the table\n",
    "    #print(f\"Expanded Hyperparameter Table ({label}):\")\n",
    "    #print(results_combined.head(10))"
   ]
  },
  {
   "cell_type": "markdown",
   "metadata": {},
   "source": []
  },
  {
   "cell_type": "code",
   "execution_count": 9,
   "metadata": {},
   "outputs": [
    {
     "name": "stdout",
     "output_type": "stream",
     "text": [
      "Best Parameters: {'classifier': RandomForestClassifier(), 'classifier__max_depth': 5, 'classifier__min_samples_split': 2, 'classifier__n_estimators': 50}\n",
      "Test Accuracy with Best Parameters: 0.9577\n",
      "Test Precision with Best Parameters: 0.9666\n",
      "Confusion Matrix:\n",
      " [[10  0  0  0  0  0  0  0  0  0  0]\n",
      " [ 1  4  0  0  0  0  0  0  0  0  0]\n",
      " [ 0  0 17  0  0  0  0  0  0  0  0]\n",
      " [ 0  0  0 15  0  0  0  0  0  0  0]\n",
      " [ 1  0  0  0  9  0  0  0  0  0  0]\n",
      " [ 0  0  0  0  0 14  0  0  0  0  0]\n",
      " [ 0  0  0  0  0  0 12  1  0  0  0]\n",
      " [ 0  0  0  0  0  0  0 19  0  0  0]\n",
      " [ 1  0  0  0  0  0  0  2 13  0  0]\n",
      " [ 0  0  0  0  0  0  0  0  0 15  0]\n",
      " [ 0  0  0  0  0  0  0  0  0  0  8]]\n"
     ]
    },
    {
     "data": {
      "image/png": "[encoded data removed]",
      "text/plain": [
       "<Figure size 800x600 with 2 Axes>"
      ]
     },
     "metadata": {},
     "output_type": "display_data"
    }
   ],
   "source": [
    "\n",
    "from sklearn.metrics import confusion_matrix\n",
    "\n",
    "\n",
    "def print_mdl_metrics (x):\n",
    "  return x\n",
    "#\n",
    "# Test set metrics\n",
    "#\n",
    "y_pred = grid_search.best_estimator_.predict(X_test)\n",
    "best_model = grid_search.best_estimator_\n",
    "test_score = best_model.score(X_test, y_test)\n",
    "test_precision = precision_score(y_test, best_model.predict(X_test), average='macro')\n",
    "\n",
    "print(\"Best Parameters:\", grid_search.best_params_)\n",
    "print(f\"Test Accuracy with Best Parameters: {test_score:.4f}\")\n",
    "print(f\"Test Precision with Best Parameters: {test_precision:.4f}\")\n",
    "\n",
    "\n",
    "y_test_decoded = label_encoder.inverse_transform (y_test)\n",
    "y_predict_decoded = label_encoder.inverse_transform (y_pred)\n",
    "\n",
    "cm = confusion_matrix (y_test_decoded, y_predict_decoded, labels=label_encoder.classes_)\n",
    "\n",
    "\n",
    "plt.figure(figsize=(8, 6))\n",
    "sns.heatmap(cm, annot=True, fmt='d', cmap='Blues',\n",
    "            xticklabels=label_encoder.classes_,\n",
    "            yticklabels=label_encoder.classes_)\n",
    "\n",
    "\n",
    "print (\"Confusion Matrix:\\n\", cm)"
   ]
  },
  {
   "cell_type": "code",
   "execution_count": null,
   "metadata": {},
   "outputs": [],
   "source": []
  }
 ],
 "metadata": {
  "kernelspec": {
   "display_name": "base",
   "language": "python",
   "name": "python3"
  },
  "language_info": {
   "codemirror_mode": {
    "name": "ipython",
    "version": 3
   },
   "file_extension": ".py",
   "mimetype": "text/x-python",
   "name": "python",
   "nbconvert_exporter": "python",
   "pygments_lexer": "ipython3",
   "version": "3.12.4"
  }
 },
 "nbformat": 4,
 "nbformat_minor": 2
}
