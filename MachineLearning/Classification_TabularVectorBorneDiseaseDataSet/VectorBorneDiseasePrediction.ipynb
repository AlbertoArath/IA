{
 "cells": [
  {
   "cell_type": "code",
   "execution_count": 4,
   "metadata": {},
   "outputs": [
    {
     "name": "stdout",
     "output_type": "stream",
     "text": [
      "Downloading playground-series-s3e13.zip to c:\\Users\\Arath\\Especialidad\\MachineLearning\n",
      "\n"
     ]
    },
    {
     "name": "stderr",
     "output_type": "stream",
     "text": [
      "\n",
      "  0%|          | 0.00/20.5k [00:00<?, ?B/s]\n",
      "100%|██████████| 20.5k/20.5k [00:00<00:00, 2.87MB/s]\n"
     ]
    }
   ],
   "source": [
    "import kagglehub\n",
    "import pandas as pd\n",
    "from pathlib import Path\n",
    "\n",
    "# Download latest version\n",
    "!kaggle competitions download -c playground-series-s3e13\n",
    "#path = Path (kagglehub.dataset_download(\"https://www.kaggle.com/competitions/playground-series-s3e13/data?select=test.csv\"))\n",
    "\n",
    "#print (\"Path to dataset files:\", path)\n",
    "\n",
    "#data_set_name = Path (\"Titanic-Dataset.csv\")\n",
    "\n",
    "#s0 = pd.read_csv(path / data_set_name, header=None)\n",
    "\n",
    "#s0\n"
   ]
  },
  {
   "cell_type": "code",
   "execution_count": null,
   "metadata": {},
   "outputs": [],
   "source": []
  }
 ],
 "metadata": {
  "kernelspec": {
   "display_name": "base",
   "language": "python",
   "name": "python3"
  },
  "language_info": {
   "codemirror_mode": {
    "name": "ipython",
    "version": 3
   },
   "file_extension": ".py",
   "mimetype": "text/x-python",
   "name": "python",
   "nbconvert_exporter": "python",
   "pygments_lexer": "ipython3",
   "version": "3.12.4"
  }
 },
 "nbformat": 4,
 "nbformat_minor": 2
}
