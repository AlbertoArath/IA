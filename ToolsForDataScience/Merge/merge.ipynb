{
 "cells": [
  {
   "cell_type": "code",
   "execution_count": null,
   "metadata": {},
   "outputs": [],
   "source": [
    "import pandas as pd\n",
    "import os\n",
    "\n",
    "directories = ['./20_1', './20_2', './20_3']\n",
    "xml_files_list = []\n",
    "\n",
    "for directory in directories:\n",
    "    xml_files = [\n",
    "        os.path.join(directory, file) \n",
    "        for file in os.listdir(directory) \n",
    "        if file.endswith('.xml') and file != '5001.xml'\n",
    "    ]\n",
    "    xml_files_list.extend(xml_files)\n",
    "\n",
    "df_final = pd.concat((pd.read_xml(file) for file in xml_files_list), ignore_index=True)\n",
    "\n",
    "\n"
   ]
  },
  {
   "cell_type": "code",
   "execution_count": null,
   "metadata": {},
   "outputs": [],
   "source": [
    "top_50 = df_final.nlargest(50, 'salary')[['firstname', 'lastname', 'salary', 'deptno']]\n",
    "print(\"Top 50 Employees by Salary:\")\n",
    "print(top_50)\n"
   ]
  },
  {
   "cell_type": "code",
   "execution_count": null,
   "metadata": {},
   "outputs": [],
   "source": [
    "\n",
    "dept_counts = df_final['deptno'].value_counts()\n",
    "print(\"\\nDepartment Counts:\")\n",
    "print(dept_counts)"
   ]
  },
  {
   "cell_type": "code",
   "execution_count": null,
   "metadata": {},
   "outputs": [],
   "source": [
    "birth_df = df_final[['firstname', 'lastname', 'birthdate']]\n",
    "birth_df['birthdate'] = pd.to_datetime(df_final['birthdate'])\n",
    "birth_df = birth_df.sort_values(by='birthdate', ascending=False)\n",
    "birth_df[:10]"
   ]
  },
  {
   "cell_type": "code",
   "execution_count": null,
   "metadata": {},
   "outputs": [],
   "source": [
    "promedio_deptno = df_final.groupby('deptno')['salary'].mean()\n",
    "promedio_deptno"
   ]
  },
  {
   "cell_type": "code",
   "execution_count": null,
   "metadata": {},
   "outputs": [],
   "source": [
    "top_5 = df_final.groupby('deptno').apply(lambda x: x.nlargest(5, 'salary')).reset_index(drop=True)\n",
    "top_5"
   ]
  },
  {
   "cell_type": "code",
   "execution_count": null,
   "metadata": {},
   "outputs": [],
   "source": [
    "print(\"\\nData Overview:\")\n",
    "print(df_final.info())"
   ]
  },
  {
   "cell_type": "code",
   "execution_count": null,
   "metadata": {},
   "outputs": [],
   "source": [
    "from lxml import etree\n",
    "\n",
    "# Load XML file\n",
    "tree = etree.parse('./20_2/5001.xml')\n",
    "\n",
    "# Test XPath\n",
    "results = tree.xpath('/root', namespaces={'ns': 'http://example.com'})\n",
    "for result in results:\n",
    "    print(result.text)"
   ]
  },
  {
   "cell_type": "code",
   "execution_count": null,
   "metadata": {},
   "outputs": [],
   "source": [
    "directory_path = ['./20_1', './20_2', './20_3']\n",
    "xml_files_list = []\n",
    "df_list = []\n",
    "\n",
    "# List all files in the directory and filter XML files\n",
    "for i in range(len(directory_path)):\n",
    "    xml_files = [entry.path for entry in os.scandir(directory_path[i]) if entry.is_file() and entry.name.endswith('.xml') and entry.name == '5001.xml']\n",
    "    xml_files_list.append(xml_files)\n",
    "\n",
    "print(xml_files_list)\n",
    "\n",
    "for file in xml_files_list:\n",
    "    for i in file:\n",
    "        print(i)\n",
    "        if i != './20_2/5001.xml' and i != './20_3/5001.xml':\n",
    "            df_list.append(pd.read_xml(i)) # Solamente 20_1/5001 tiene info!!!\n",
    "\n",
    "df_managers = pd.concat(df_list, ignore_index=True)"
   ]
  },
  {
   "cell_type": "code",
   "execution_count": null,
   "metadata": {},
   "outputs": [],
   "source": [
    "managers = df_managers[df_managers['title'] == 'Manager'][['deptno', 'firstname', 'lastname', 'title']]\n",
    "managers"
   ]
  },
  {
   "cell_type": "code",
   "execution_count": null,
   "metadata": {},
   "outputs": [],
   "source": [
    "dept = df_final['deptno'].value_counts()\n",
    "df_managers_employees = pd.merge (managers, dept, on='deptno')"
   ]
  }
 ],
 "metadata": {
  "language_info": {
   "name": "python"
  }
 },
 "nbformat": 4,
 "nbformat_minor": 2
}
