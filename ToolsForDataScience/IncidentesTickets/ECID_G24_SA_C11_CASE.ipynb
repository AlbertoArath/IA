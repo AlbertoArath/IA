{
 "cells": [
  {
   "cell_type": "markdown",
   "metadata": {
    "id": "OYHr64LCsTmg"
   },
   "source": [
    "#Importar librerias y declaracion de funciones"
   ]
  },
  {
   "cell_type": "code",
   "execution_count": 63,
   "metadata": {
    "id": "gFsILEgBeAAZ"
   },
   "outputs": [],
   "source": [
    "#Importamos nuestras librerias\n",
    "\n",
    "#Funciones de manejo de  Arrays y Matrices\n",
    "import pandas as pd\n",
    "import numpy as np\n",
    "\n",
    "\n",
    "#Librerias de visualizacion de datos\n",
    "import matplotlib.pyplot as plt\n",
    "import seaborn as sns\n",
    "\n",
    "#Otras Librerias\n",
    "import os #Libreria para interactuar con el sistema operativo"
   ]
  },
  {
   "cell_type": "code",
   "execution_count": 64,
   "metadata": {
    "id": "KaXjHC1quGNE"
   },
   "outputs": [],
   "source": [
    "def describe_datos(df):\n",
    "    unicos =[]\n",
    "    for col in df:\n",
    "        unicos.append(df[col].unique())\n",
    "    unicos = pd.Series(unicos, index=df.columns)\n",
    "    descripcion = pd.concat([df.dtypes, df.isna().sum(),df.nunique(),unicos], axis=1)\n",
    "    descripcion.columns = ['dtypes', 'null','nunique','unique' ]\n",
    "    return(descripcion)"
   ]
  },
  {
   "cell_type": "markdown",
   "metadata": {
    "id": "p5BfOzApsoCV"
   },
   "source": [
    "#Preparacion de datos y breve analisis exploratorio"
   ]
  },
  {
   "cell_type": "markdown",
   "metadata": {
    "id": "AzOV4rg1eEqj"
   },
   "source": [
    "##Lectura de datos y union de tabla de hechos"
   ]
  },
  {
   "cell_type": "code",
   "execution_count": 65,
   "metadata": {
    "id": "UJ_abbz8eViR"
   },
   "outputs": [],
   "source": [
    "from pathlib import Path\n",
    "\n",
    "#Definir Directorio\n",
    "dir = 'FCT_INCIDENTS/'\n",
    "output_name = 'incident_out.csv'\n",
    "input_dir = Path(dir)\n",
    "\n",
    "all_csv_data = []\n",
    "\n",
    "for file_path in input_dir.glob('*.csv'):\n",
    "    df = pd.read_csv(file_path)\n",
    "    # Append the dataframe to the list\n",
    "    all_csv_data.append(df)\n",
    "\n",
    "df = pd.concat(all_csv_data, ignore_index=True)\n",
    "output_path = Path(output_name)  # Ensure output is a Path object as well\n",
    "df.to_csv(output_path, index=False)\n",
    "#df"
   ]
  },
  {
   "cell_type": "code",
   "execution_count": 66,
   "metadata": {},
   "outputs": [],
   "source": [
    "\n",
    "#Crear data frames dimensionales\n",
    "dimCategory = pd.read_csv('DIM_CATEGORY.csv')\n",
    "dimCompanny = pd.read_csv('DIM_COMPANY.csv')\n",
    "dimState = pd.read_csv('DIM_INC_STATE.csv')\n",
    "dimSubCategory = pd.read_csv('DIM_SUBCATEGORY.csv')\n",
    "dimContactType = pd.read_csv('T_DIM_CONTACT_TYPE.csv')\n",
    "dimDepartment = pd.read_csv('T_DIM_DEPARTMENT.csv')\n",
    "dimEscalation = pd.read_csv('T_DIM_ESCALATION.csv')\n",
    "dimSuppFunc = pd.read_csv('T_DIM_SUPPORT_FUNCTION.csv')\n",
    "dimUser = pd.read_csv('T_DIM_NAMES.csv')\n",
    "dimDepartment.dropna(inplace=True)\n",
    "\n",
    "\n",
    "#Merge/Join archivos dimensionales con la fct\n",
    "incidentes = df.merge(dimCategory, how='left')\n",
    "incidentes = incidentes.merge(dimCompanny, how='left')\n",
    "incidentes = incidentes.merge(dimState, how='left')\n",
    "incidentes = incidentes.merge(dimSubCategory, how='left')\n",
    "incidentes = incidentes.merge(dimContactType, how='left')"
   ]
  },
  {
   "cell_type": "markdown",
   "metadata": {
    "id": "thXakodHtefJ"
   },
   "source": [
    "##Breve Analisis Exploratorio"
   ]
  },
  {
   "cell_type": "markdown",
   "metadata": {
    "id": "XLfgUXxzeUm6"
   },
   "source": [
    "##Preprosesamiento"
   ]
  },
  {
   "cell_type": "code",
   "execution_count": null,
   "metadata": {
    "id": "szcFoFemeA66"
   },
   "outputs": [
    {
     "name": "stdout",
     "output_type": "stream",
     "text": [
      "31372\n"
     ]
    }
   ],
   "source": [
    "\n",
    "\n",
    "\n",
    "\n",
    "incidentes = incidentes.merge(\n",
    "    dimUser[['FIRST_NAME','LAST_NAME','TITLE','DEPARTMENT','CALLER_SK']],\n",
    "    left_on='OPENED_BY_SK',\n",
    "    right_on= 'CALLER_SK'\n",
    "    )\n",
    "\n",
    "incidentes = incidentes.merge(\n",
    "    dimUser[['FIRST_NAME','LAST_NAME','TITLE','DEPARTMENT','CALLER_SK']],\n",
    "    left_on='RESOLVE_BY_SK',\n",
    "    right_on= 'CALLER_SK',\n",
    "    suffixes=(None,'_R'),\n",
    "    how='left'\n",
    "    )\n",
    "\n",
    "incidentes = incidentes.merge(\n",
    "    dimDepartment,\n",
    "    left_on='DEPARTMENT',\n",
    "    right_on='DEPARTMENT',\n",
    "    suffixes=(None,'_O'),\n",
    "    how='left'\n",
    "    )\n",
    "print(incidentes['INCIDENT_NUMBER'].count())\n",
    "incidentes = incidentes.merge(\n",
    "    dimDepartment,\n",
    "    left_on='DEPARTMENT_R',\n",
    "    right_on='DEPARTMENT',\n",
    "    suffixes=(None,'_R'),\n",
    "    how='left'\n",
    "    )\n",
    "dimEscalation['INC_ESCALATION_SK'] = pd.to_numeric(dimEscalation['INC_ESCALATION_SK'], errors='coerce').astype('Int64')\n",
    "incidentes = incidentes.merge(dimEscalation, how='left')\n",
    "incidentes = incidentes.merge(dimSuppFunc, how='left')\n",
    "\n",
    "incidentes.drop(columns=['INC_STATE_SK',\n",
    "                         'CATEGORY_SK',\n",
    "                         'OPENED_BY_SK',\n",
    "                         'RESOLVE_BY_SK',\n",
    "                         'SUPPORT_FUNCTION_SK',\n",
    "                         'CONTACT_TYPE_SK',\n",
    "                         'INC_ESCALATION_SK',\n",
    "                         'DEPARTMENT',\n",
    "                         'DEPARTMENT_R',\n",
    "                         'CALLER_SK',\n",
    "                         'CALLER_SK_R',\n",
    "                         'COMPANY_SK',\n",
    "                         'SUBCATEGORY_SK',\n",
    "                         'Year',\n",
    "                         'Month'],\n",
    "                inplace=True)\n",
    "\n",
    "# Convertir las columnas de fechas a datetime\n",
    "incidentes['CREATED_DTTM'] = pd.to_datetime(incidentes['CREATED_DTTM'])\n",
    "incidentes['RESOLVED_AT_DTTM'] = pd.to_datetime(incidentes['RESOLVED_AT_DTTM'])\n",
    "incidentes['DAY'] = incidentes['CREATED_DTTM'].dt.day\n",
    "incidentes['MONTH'] = incidentes['CREATED_DTTM'].dt.month\n",
    "incidentes['YEAR'] = incidentes['CREATED_DTTM'].dt.year\n",
    "incidentes['DAY_NAME'] = incidentes['CREATED_DTTM'].dt.day_name()\n",
    "incidentes['HOUR'] = incidentes['CREATED_DTTM'].dt.hour\n",
    "\n",
    "# Calcular el tiempo de resolución\n",
    "\n",
    "# Calcular el tiempo de resolución\n",
    "incidentes['RESOLUTION_TIME'] = incidentes['RESOLVED_AT_DTTM'] - incidentes['CREATED_DTTM']\n",
    "\n",
    "#incidentes['RESOLUTION_TIME'] =\n",
    "\n",
    "incidentes.head(10)\n",
    "#describe_datos(incidentes)"
   ]
  },
  {
   "cell_type": "markdown",
   "metadata": {
    "id": "VdJAIiDVejPO"
   },
   "source": [
    "#MTTR Mean Time To Resolve"
   ]
  },
  {
   "cell_type": "code",
   "execution_count": 68,
   "metadata": {
    "colab": {
     "base_uri": "https://localhost:8080/"
    },
    "id": "i9H42LWeeBGE",
    "outputId": "0e79ea90-aeb6-434d-c27f-2b24c9e22248"
   },
   "outputs": [
    {
     "data": {
      "text/plain": [
       "Timedelta('2 days 19:20:45.858096828')"
      ]
     },
     "execution_count": 68,
     "metadata": {},
     "output_type": "execute_result"
    }
   ],
   "source": [
    "# Calcular el MTTR\n",
    "mean_inc = incidentes['RESOLUTION_TIME'].mean()\n",
    "mean_inc"
   ]
  },
  {
   "cell_type": "markdown",
   "metadata": {
    "id": "WZV716BkeyP8"
   },
   "source": [
    "#SD Resolvable %"
   ]
  },
  {
   "cell_type": "code",
   "execution_count": 69,
   "metadata": {
    "id": "KknHPfxXeBRK"
   },
   "outputs": [
    {
     "data": {
      "text/plain": [
       "0.3775978579625143"
      ]
     },
     "execution_count": 69,
     "metadata": {},
     "output_type": "execute_result"
    }
   ],
   "source": [
    "# Filtrar los incidentes cerrados y con resolver level 1\n",
    "mean_lvl_1 = incidentes[incidentes['RESOLVED_FIRST_CONTACT'] == 1].shape[0]\n",
    "mean_lvl_1 / incidentes.shape[0]\n",
    "#mean_lvl_1.count()\n",
    "\n",
    "# Calcular el porcentaje de resolución por el Service Desk"
   ]
  },
  {
   "cell_type": "markdown",
   "metadata": {
    "id": "S4ycilYmfAdB"
   },
   "source": [
    "#Closed Percentage by Month"
   ]
  },
  {
   "cell_type": "markdown",
   "metadata": {
    "id": "idTQ9v-wjoiF"
   },
   "source": [
    "#Visuales"
   ]
  },
  {
   "cell_type": "markdown",
   "metadata": {
    "id": "xm19bo97jksR"
   },
   "source": [
    "##Heatmap"
   ]
  },
  {
   "cell_type": "code",
   "execution_count": 70,
   "metadata": {
    "id": "00DZRuWvYyz9"
   },
   "outputs": [],
   "source": [
    "# Crear el heatmap Resolution Time Month vs Company\n"
   ]
  },
  {
   "cell_type": "markdown",
   "metadata": {
    "id": "OnaqhZ2Nwds6"
   },
   "source": [
    "##Displot"
   ]
  },
  {
   "cell_type": "code",
   "execution_count": 71,
   "metadata": {
    "id": "6H4BQD-7wq4q"
   },
   "outputs": [],
   "source": [
    "#Distribution Plot for company by month\n"
   ]
  },
  {
   "cell_type": "markdown",
   "metadata": {
    "id": "o1ufaSVt8i-R"
   },
   "source": [
    "##Violinplot"
   ]
  },
  {
   "cell_type": "code",
   "execution_count": null,
   "metadata": {
    "id": "AGQQ_vm-8fGj"
   },
   "outputs": [],
   "source": [
    "\n"
   ]
  },
  {
   "cell_type": "markdown",
   "metadata": {
    "id": "BAyS-GvafVXJ"
   },
   "source": [
    "##Grafica de columnas apiladas al 100%(Tickets abiertos vs tickets resueltos o cerrados)"
   ]
  },
  {
   "cell_type": "code",
   "execution_count": 72,
   "metadata": {
    "colab": {
     "base_uri": "https://localhost:8080/",
     "height": 217
    },
    "id": "U1Nxmvbi4Id7",
    "outputId": "72b6c618-b512-4709-902e-ee1b5e159c4b"
   },
   "outputs": [
    {
     "data": {
      "image/png": "[encoded data removed]",
      "text/plain": [
       "<Figure size 1000x600 with 1 Axes>"
      ]
     },
     "metadata": {},
     "output_type": "display_data"
    }
   ],
   "source": [
    "# Filtrar los incidentes abiertos y cerrados o resueltos\n",
    "incidentes['STATUS'] = np.where(\n",
    "    incidentes['INC_STATE'].isin(['Closed', 'Resolved']),\n",
    "    'Closed/Resolved',\n",
    "    'Open'\n",
    ")\n",
    "\n",
    "# Agrupar por mes y estado\n",
    "status_summary = incidentes.groupby(['MONTH', 'STATUS']).size().unstack(fill_value=0)\n",
    "\n",
    "# Calcular el porcentaje para cada estado por mes\n",
    "status_summary_percentage = status_summary.div(status_summary.sum(axis=1), axis=0) * 100\n",
    "\n",
    "# Crear la gráfica de columnas apiladas al 100%\n",
    "ax = status_summary_percentage.plot(kind='bar', stacked=True, figsize=(10, 6))\n",
    "plt.title('Tickets Abiertos vs Cerrados/Resueltos por Mes')\n",
    "plt.xlabel('Mes de Creación')\n",
    "plt.ylabel('Porcentaje (%)')\n",
    "plt.legend(title='Estado del Ticket')\n",
    "plt.xticks(rotation=45)\n",
    "\n",
    "# Agregar etiquetas con los valores en porcentaje a 2 dígitos, no mostrar si el valor es menor a 1%\n",
    "for bars in ax.containers:\n",
    "    labels = [f'{v:.0f}%' if v >= 1 else '' for v in bars.datavalues]\n",
    "    ax.bar_label(bars, labels=labels, label_type='center')\n",
    "\n",
    "plt.tight_layout()\n",
    "plt.show()"
   ]
  },
  {
   "cell_type": "code",
   "execution_count": 73,
   "metadata": {
    "id": "b_xKaiJt8BIU"
   },
   "outputs": [
    {
     "data": {
      "text/plain": [
       "<Axes: >"
      ]
     },
     "execution_count": 73,
     "metadata": {},
     "output_type": "execute_result"
    },
    {
     "data": {
      "image/png": "[encoded data removed]",
      "text/plain": [
       "<Figure size 640x480 with 1 Axes>"
      ]
     },
     "metadata": {},
     "output_type": "display_data"
    }
   ],
   "source": [
    "sns.barplot()"
   ]
  }
 ],
 "metadata": {
  "colab": {
   "provenance": []
  },
  "kernelspec": {
   "display_name": "base",
   "language": "python",
   "name": "python3"
  },
  "language_info": {
   "codemirror_mode": {
    "name": "ipython",
    "version": 3
   },
   "file_extension": ".py",
   "mimetype": "text/x-python",
   "name": "python",
   "nbconvert_exporter": "python",
   "pygments_lexer": "ipython3",
   "version": "3.12.4"
  }
 },
 "nbformat": 4,
 "nbformat_minor": 0
}
