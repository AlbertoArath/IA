{
 "cells": [
  {
   "cell_type": "code",
   "execution_count": null,
   "metadata": {},
   "outputs": [],
   "source": []
  },
  {
   "cell_type": "code",
   "execution_count": 4,
   "metadata": {},
   "outputs": [],
   "source": [
    "import pandas as pd\n",
    "import numpy as np\n",
    "import plotly.express as px\n",
    "\n",
    "# Example data\n",
    "data = {\n",
    "    \"Theater of Operations\": [\"CBI\", \"EAST AFRICA\", \"ETO\", \"MTO\", \"PTO\"],\n",
    "    \"Target Country\": [\n",
    "        [\"THAILAND OR SIAM\", \"BURMA\", \"ANDAMAN ISLANDS\", \"INDIA\"],\n",
    "        [np.nan, \"SUDAN\", \"SOMALIA\"],\n",
    "        [\"AUSTRIA\", \"BULGARIA\", \"GERMANY\", \"CZECHOSLOVAKIA\", \"FRANCE\"],\n",
    "        [\"ITALY\", \"GREECE\", \"CRETE\", \"ROMANIA\", \"LIBYA\", \"ERITREA\"],\n",
    "        [\"SOLOMON ISLANDS\", np.nan, \"PHILIPPINE ISLANDS\", \"BISMARCK ARCHIPELAGO\"]\n",
    "    ]\n",
    "}\n",
    "\n",
    "df = pd.DataFrame(data)\n",
    "df_exploded = df.explode(\"Target Country\").dropna(subset=[\"Target Country\"])\n",
    "\n",
    "# Create the sunburst chart\n",
    "fig = px.sunburst(\n",
    "    df_exploded,\n",
    "    path=[\"Theater of Operations\", \"Target Country\"],\n",
    "    title=\"Theater of Operations\"\n",
    ")\n",
    "\n",
    "# Add an annotation for the acronyms in the top-right corner\n",
    "fig.update_layout(\n",
    "    annotations=[\n",
    "        dict(\n",
    "            x=.7,         # far right of the plotting area\n",
    "            y=1.0,         # top of the plotting area\n",
    "            xref='paper',\n",
    "            yref='paper',\n",
    "            xanchor='left',  # anchor the box to its left side at x=1.0\n",
    "            yanchor='top',   # anchor the box to its top at y=1.0\n",
    "            text=(\n",
    "                \"<b>Theater Acronyms:</b><br>\"\n",
    "                \"CBI: China-Burma-India<br>\"\n",
    "                \"EAST AFRICA: East African Theater<br>\"\n",
    "                \"ETO: European Theater of Operations<br>\"\n",
    "                \"MTO: Mediterranean Theater of Operations<br>\"\n",
    "                \"PTO: Pacific Theater of Operations\"\n",
    "            ),\n",
    "            showarrow=False,\n",
    "            align='left',\n",
    "            font=dict(size=8),\n",
    "            bordercolor='black',\n",
    "            borderwidth=1,\n",
    "            borderpad=4,\n",
    "            bgcolor='lightyellow'\n",
    "        )\n",
    "    ],\n",
    "    # Set background to transparent\n",
    "    paper_bgcolor='rgba(0,0,0,0)',\n",
    "    plot_bgcolor='rgba(0,0,0,0)'\n",
    ")\n",
    "\n",
    "# Save the figure as an HTML file\n",
    "fig.write_html(\"theater_sunburst.html\")\n"
   ]
  },
  {
   "cell_type": "code",
   "execution_count": null,
   "metadata": {},
   "outputs": [],
   "source": []
  }
 ],
 "metadata": {
  "kernelspec": {
   "display_name": "base",
   "language": "python",
   "name": "python3"
  },
  "language_info": {
   "codemirror_mode": {
    "name": "ipython",
    "version": 3
   },
   "file_extension": ".py",
   "mimetype": "text/x-python",
   "name": "python",
   "nbconvert_exporter": "python",
   "pygments_lexer": "ipython3",
   "version": "3.12.4"
  }
 },
 "nbformat": 4,
 "nbformat_minor": 2
}
