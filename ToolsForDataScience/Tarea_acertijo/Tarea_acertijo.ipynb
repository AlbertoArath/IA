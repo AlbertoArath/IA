{
  "cells": [
    {
      "cell_type": "markdown",
      "metadata": {
        "id": "Nnl4FxD4qqn-"
      },
      "source": [
        "# ¿Cuál es el mensaje escondido?\n",
        "En este ejercicio utilizaremos la funcionalidad de numpy para tratar de resolver el acertijo planeado.\n",
        "\n",
        "![](https://encrypted-tbn0.gstatic.com/images?q=tbn:ANd9GcRVrjpKx4sHO1Yo-SQTeRuZb4exdo84SGnq9ZcDKzeTneuaN_GXxz4JKplrmAECkvxlpRk&usqp=CAU)\n",
        "\n",
        "\n",
        "\n",
        "__Objetivo__: Resuelve las pistas las pistas y descubre cuál es el mensaje escondido. Lee cuidadosamente las pistas proporcionadas y codifica los elementos que se piden.\n",
        "\n",
        "### Conocimientos requeridos:\n",
        "- __numpy__\n",
        "    - ```array```\n",
        "    - ```array_split```\n",
        "    - ```reshape```\n",
        "\n",
        "    - ```vstack```, ```hstack```\n",
        "    - __filtros__\n",
        "    - __máscaras__\n",
        "- __matplotlib__\n",
        "    - ```imshow```\n",
        "\n",
        "\n"
      ]
    },
    {
      "cell_type": "markdown",
      "metadata": {
        "id": "SRqdeSkQsevE"
      },
      "source": [
        "## Paso 1\n",
        "Descarga los archivos ejecutando el código de la siguiente celda."
      ]
    },
    {
      "cell_type": "code",
      "execution_count": 12,
      "metadata": {
        "id": "ruw-lKHNpwOw"
      },
      "outputs": [],
      "source": [
        "%%capture\n",
        "!wget https://raw.githubusercontent.com/DRMiguelAR/Herramientas_Analisis/master/who/who.dat\n",
        "!wget https://raw.githubusercontent.com/DRMiguelAR/Herramientas_Analisis/master/who/criba.dat"
      ]
    },
    {
      "cell_type": "code",
      "execution_count": null,
      "metadata": {
        "id": "-1pnFrvaiWnZ"
      },
      "outputs": [],
      "source": []
    },
    {
      "cell_type": "markdown",
      "metadata": {
        "id": "dF3_Sr-3sphl"
      },
      "source": [
        "## Paso 2\n",
        "Abre los archivos _who.dat_ y _criba.dat_. Ambos contienen arreglos numéricos de enteros, en una sola linea, separados por espacios. Convierte la la información en arreglos de _numpy_."
      ]
    },
    {
      "cell_type": "code",
      "execution_count": 13,
      "metadata": {
        "id": "CePE_v2Jp5zq"
      },
      "outputs": [],
      "source": [
        "import numpy as np\n",
        "\n",
        "def transform_to_np_arr (file_name:str):\n",
        "  with open(file_name, 'r') as file:\n",
        "    data = file.read().split(' ')\n",
        "    return np.array(data).astype(int)\n",
        "\n",
        "who_array = transform_to_np_arr('who.dat.txt')\n",
        "criba_array = transform_to_np_arr('criba.dat.txt')\n"
      ]
    },
    {
      "cell_type": "markdown",
      "metadata": {
        "id": "dq2k5UiXtzV9"
      },
      "source": [
        "El archivo _who_ contiene información escondida, pero el tiempo ha hecho que el mensaje no esté muy claro. Revisa los contenidos del arreglo para ver si logras descubrir algún patrón. _(Exploración libre)_"
      ]
    },
    {
      "cell_type": "code",
      "execution_count": 14,
      "metadata": {
        "colab": {
          "base_uri": "https://localhost:8080/"
        },
        "id": "vArGeApRqh0E",
        "outputId": "c6d2e006-8047-4dec-9a0a-4391947ad155"
      },
      "outputs": [
        {
          "name": "stdout",
          "output_type": "stream",
          "text": [
            "[1485 2109  503  426 2446 2812 2657 1599 2396 1822 2261 1316 2427 1300\n",
            " 1351 2168  231 1420 1320 1454 2616 2328  251 1498 1330 1469 2617 1554\n",
            " 2064 2664  168 1542 1956 2597 2919 2942  736 1716 2672 1035  200 2601\n",
            " 1378  948  876 2814  476  105  984 1481  638  982 1114 2632  778 2639\n",
            " 2881 1879  570  139 2988 2559 2243 1713  290  587  404  977 2181   12\n",
            " 2858 1397 2190 1308 2415 2131  106 1275  979  266  426  131 1441 2799\n",
            " 1071  596 1377   85 1142  654 2720  841 2766 1119 2477 1886 2616 1848\n",
            "  904 1336]\n",
            "[  0  12  13  17  22  29  35  36  37  38  48  61  62  78  87  88  90 101\n",
            " 105 107 111 112 115 119 121 131 135 150 151 154 164 173 176 179 182 190\n",
            " 192 200 204 217 219 224 234 237 246 247 253 263 266 268 269 272 279 282\n",
            " 289 290 294 300 305 311 312 322 329 330 337 338 340 354 355 359 360 363\n",
            " 367 370 372 380 389 390 393 394 397 399 401 410 415 422 427 430 435 436\n",
            " 439 440 443 445 449 452 455 475 476 477]\n"
          ]
        }
      ],
      "source": [
        "print(who_array[0:100])\n",
        "print(criba_array[0:100])"
      ]
    },
    {
      "cell_type": "markdown",
      "metadata": {
        "id": "CSYBG9QXuJZ0"
      },
      "source": [
        "__Contexto de los datos:__ Unos arqueólogos han descubierto en unas ciertas ruinas dos series de números que a su parecer esconden la clave para la paz mundial. Les han llamado el arreglo _who_ y el arreglo _criba_.\n",
        "\n",
        "## Pista 1\n",
        "- Cada número del arreglo _who_ fue calculado meticulosamente por unos monjes tibetanos que lograban descubrir un nuevo número cada día, el cual apuntaban de manera secuencial en una lista.\n",
        "\n",
        "- Sin embargo, los monjes cumplían fielmente su descanso de fin de semana, y organizaban fiestas legendarias cada sábado y domingo. Esos días agregaban el número correspondiente al arreglo, pero en lugar de calcular el siguiente número de manera adecuada, sólo escribían un número aleatorio al final de la fiesta de ese día.\n",
        "\n",
        "- Si se sabe que los monjes iniciaron su trabajo un __lunes__, crea una máscara de _numpy_ que se pueda aplicar sobre el arreglo _who_ de manera que remueva los elementos basura y encontrar __el verdadero arreglo *who*__.  \n",
        "\n",
        "- ¿Cuántos elementos quedaron después de filtrar?"
      ]
    },
    {
      "cell_type": "code",
      "execution_count": 15,
      "metadata": {
        "colab": {
          "base_uri": "https://localhost:8080/"
        },
        "id": "4fl3J2N6qjdZ",
        "outputId": "d3f5cb1d-94d6-4020-cac8-33452d0965dc"
      },
      "outputs": [
        {
          "name": "stdout",
          "output_type": "stream",
          "text": [
            "[True, True, True, True, True, False, False, True, True, True, True, True, False, False, True, True, True, True, True, False, False, True, True, True, True, True, False, False, True, True, True, True, True, False, False, True, True, True, True, True, False, False, True, True, True, True, True, False, False, True, True, True, True, True, False, False, True, True, True, True, True, False, False, True, True, True, True, True, False, False, True, True, True, True, True, False, False, True, True, True, True, True, False, False, True, True, True, True, True, False, False, True, True, True, True, True, False, False, True, True]\n"
          ]
        }
      ],
      "source": [
        "size = who_array.size\n",
        "mask_who = [False if (i % 7 == 5 or i % 7 == 6) else True for i in range(size)]\n",
        "print(mask_who[0:100])\n",
        "\n",
        "#np.tile (mask, len *who / 7)\n",
        "#who[:, mask]\n",
        "#who1[:,:5].flatten ()"
      ]
    },
    {
      "cell_type": "code",
      "execution_count": 16,
      "metadata": {
        "colab": {
          "base_uri": "https://localhost:8080/"
        },
        "id": "gR9qurlwP-3h",
        "outputId": "806f069c-13d7-4f53-e8ed-33d18f1cbedd"
      },
      "outputs": [
        {
          "name": "stdout",
          "output_type": "stream",
          "text": [
            "1400000\n",
            "1000000\n"
          ]
        }
      ],
      "source": [
        "print (who_array.size)\n",
        "print(who_array[mask_who].size)\n",
        "masked_who = who_array[mask_who]"
      ]
    },
    {
      "cell_type": "markdown",
      "metadata": {
        "id": "rCRN2F0wvj89"
      },
      "source": [
        "## Pista 2\n",
        "\n",
        "Si se utilizan los números del arreglo _criba_ para sólo obtener el millón de elementos adecuados del verdadero arreglo _who_, de manera que cada número de la criba represente la posición a obtener de _who_,se descubre un patrón que puede iluminar el camino correcto.\n",
        "- Utiliza la _criba_ para elegir los índices correctos del arreglo _who_.\n",
        "- ¿Cuántos elementos quedaron?"
      ]
    },
    {
      "cell_type": "code",
      "execution_count": 17,
      "metadata": {
        "colab": {
          "base_uri": "https://localhost:8080/"
        },
        "id": "3ATlPy7p0F15",
        "outputId": "f4a87793-e645-4de0-8d4b-020692e22d99"
      },
      "outputs": [
        {
          "name": "stdout",
          "output_type": "stream",
          "text": [
            "[  0  12  13  17  22  29  35  36  37  38  48  61  62  78  87  88  90 101\n",
            " 105 107 111 112 115 119 121 131 135 150 151 154 164 173 176 179 182 190\n",
            " 192 200 204 217 219 224 234 237 246 247 253 263 266 268 269 272 279 282\n",
            " 289 290 294 300 305 311 312 322 329 330 337 338 340 354 355 359 360 363\n",
            " 367 370 372 380 389 390 393 394 397 399 401 410 415 422 427 430 435 436\n",
            " 439 440 443 445 449 452 455 475 476 477]\n",
            "[1485 2109  503  426 2446 2812 2657 1599 2396 1822 2261 1316 2427 1300\n",
            " 1351 2168  231 1420 1320 1454 2616 2328  251 1498 1330 1469 2617 1554\n",
            " 2064 2664  168 1542 1956 2597 2919 2942  736 1716 2672 1035  200 2601\n",
            " 1378  948  876 2814  476  105  984 1481  638  982 1114 2632  778 2639\n",
            " 2881 1879  570  139 2988 2559 2243 1713  290  587  404  977 2181   12\n",
            " 2858 1397 2190 1308 2415 2131  106 1275  979  266  426  131 1441 2799\n",
            " 1071  596 1377   85 1142  654 2720  841 2766 1119 2477 1886 2616 1848\n",
            "  904 1336]\n",
            "[1485 2109  503  426 2446 1599 2396 1822 2261 1316 1351 2168  231 1420\n",
            " 1320 2328  251 1498 1330 1469 2064 2664  168 1542 1956 2942  736 1716\n",
            " 2672 1035 1378  948  876 2814  476 1481  638  982 1114 2632 2881 1879\n",
            "  570  139 2988 1713  290  587  404  977 2858 1397 2190 1308 2415 1275\n",
            "  979  266  426  131 1071  596 1377   85 1142  841 2766 1119 2477 1886\n",
            "  904 1336 1179 1951  448 2354  261  317 1003  764 2987 1583  107  729\n",
            "  815  265  954  804  975  294  615 1482 1734  832 1527 1477  221 2627\n",
            "  786 2935]\n",
            "1000000\n",
            "219456\n",
            "[1485  231 1420 1498  168 1035 1481  638  982 1114  404  596 1377 1003\n",
            "  804  975  615  421  139  141  654 1037  462 1193  365 1481  357  185\n",
            " 1442 1205 1298  809 1446 1415  537  942  528  998  671 1075  107  446\n",
            " 1070  695  197  546  174 1085 1120  229 1190 1406  143  507  562 1311\n",
            " 1064  463  769  973  192  200  295 1227  247 1366 1375  416 1158 1333\n",
            "   72 1219   93   66 1356 1314  664  976  844 1414 1354  634  895 1421\n",
            "  371  202 1176  674  518  402   54  713 1096 1308  267  251  816  161\n",
            " 1167 1182]\n"
          ]
        }
      ],
      "source": [
        "print (criba_array[0:100])\n",
        "print (who_array[0:100])\n",
        "print (masked_who[0:100])\n",
        "who_criba = masked_who[criba_array]\n",
        "print (masked_who.size)\n",
        "print (who_criba.size)\n",
        "print (who_criba[0:100])"
      ]
    },
    {
      "cell_type": "markdown",
      "metadata": {
        "id": "o_3yZQVL0G-t"
      },
      "source": [
        "## Pista 3\n",
        "La siguiente pista es un acertijo:\n",
        ">> _Los buenos de los malos, los verdaderos y los falsos, los correctos y los incorrectos se separan por el año fatídico. El año del número cuadrado, un cuadrado perfecto en el que chocaron dos ejércitos y cayó la capital del Ombligo de la Luna._\n",
        "\n",
        "- Crea un arreglo de _numpy_ con los cuadrados perfectos e identifica el año en cuestión.\n",
        "\n",
        "- Utiliza el acertijo para crear una máscara sobre el arreglo _who_ y filtrar la ___verdadera verdadera información___.\n",
        "\n",
        "- ¿Cuántos datos quedan en la __verdadera verdadera información__?"
      ]
    },
    {
      "cell_type": "code",
      "execution_count": 20,
      "metadata": {
        "colab": {
          "base_uri": "https://localhost:8080/",
          "height": 504
        },
        "id": "uho8r8PT2Ore",
        "outputId": "d5c550f2-b6d1-4789-b521-39139d9f7892"
      },
      "outputs": [
        {
          "name": "stdout",
          "output_type": "stream",
          "text": [
            "(219456,)\n"
          ]
        },
        {
          "data": {
            "text/plain": [
              "<matplotlib.image.AxesImage at 0x1ffd286e5d0>"
            ]
          },
          "execution_count": 20,
          "metadata": {},
          "output_type": "execute_result"
        },
        {
          "data": {
            "image/png": "[encoded data removed]",
            "text/plain": [
              "<Figure size 640x480 with 1 Axes>"
            ]
          },
          "metadata": {},
          "output_type": "display_data"
        }
      ],
      "source": [
        "#sqrt_array = np.sqrt(who_criba)\n",
        "#sqrt_array = np.sqrt(who_array)\n",
        "#print(sqrt_array[0:100])\n",
        "#is_square = sqrt_array == np.floor(sqrt_array)\n",
        "#squares = who_criba[is_square]\n",
        "#print(squares.size)\n",
        "#print(squares[0:100])\n",
        "import matplotlib.pyplot as plt\n",
        "good_ones_bad_ones = who_criba < 1521\n",
        "#the_truth = who_criba[good_ones_bad_ones]\n",
        "\n",
        "#print (the_truth[0:100])\n",
        "print (good_ones_bad_ones.shape)\n",
        "\n",
        "import matplotlib\n",
        "#print (the_good_ones.reshape(-1,3))\n",
        "#the_truth = the_truth.reshape(2,-1)\n",
        "#print (the_good_ones_rect)\n",
        "#matplotlib.pyplot.imshow (the_good_ones.reshape(3,-1))\n",
        "\n",
        "rect_good_ones_bad_ones = good_ones_bad_ones.reshape(-1, 3**3 * 2**6)\n",
        "\n",
        "slices = np.array_split (rect_good_ones_bad_ones, 6, axis=1)\n",
        "\n",
        "# Now, put the slices back together vertically\n",
        "reconstructed_matrix = np.vstack(slices) # hsplit(rect_good_ones_bad_ones6)\n",
        "\n",
        "matplotlib.pyplot.imshow (good_ones_bad_ones.reshape(-1, 3**3 * 2**6))\n",
        "matplotlib.pyplot.imshow (reconstructed_matrix)\n",
        "\n",
        "#print(indices)\n",
        "#correct_index = index - 1\n",
        "#print(correct_index)\n",
        "\n",
        "#the_good_ones = who_criba [correct_index]\n",
        "\n",
        "#print (the_good_ones)\n",
        "#print (the_good_ones.shape)\n",
        "\n",
        "# Find the index of the most frequent element\n",
        "#max_index = np.argmax(counts)\n",
        "# Get the most frequent element and its count\n",
        "#most_frequent_element = unique_elements[max_index]\n",
        "#frequency = counts[max_index]\n",
        "#print(\"Most frequent element:\", most_frequent_element)\n",
        "#print(\"Frequency:\", frequency)"
      ]
    },
    {
      "cell_type": "markdown",
      "metadata": {
        "id": "QRwGqnRm2QfM"
      },
      "source": [
        "## Pista 4\n",
        "La verdadera verdadera información se puede acomodar no sólo como una lista, sino como un rectángulo.\n",
        "- ¿Qué posibilidades de acomodo existen?\n",
        "\n",
        "Al visualizar la información de manera rectangular, obtendremos una guía a la paz mundial.\n",
        "\n",
        "- Acomoda los datos en un rectángulo bidimensional\n",
        "- Después decide cuál rectángulo representa información visual adecuada, imprimiendo los datos con la función ```matplotlib.pyplot.imshow```"
      ]
    },
    {
      "cell_type": "code",
      "execution_count": null,
      "metadata": {
        "colab": {
          "base_uri": "https://localhost:8080/",
          "height": 83
        },
        "id": "HHOgBdzw2PkW",
        "outputId": "5a460777-8e5e-40f1-c1e9-57b26ba19b19"
      },
      "outputs": [
        {
          "data": {
            "text/plain": [
              "<matplotlib.image.AxesImage at 0x7e76ec6b3220>"
            ]
          },
          "execution_count": 67,
          "metadata": {},
          "output_type": "execute_result"
        },
        {
          "data": {
            "image/png": "[encoded data removed]",
            "text/plain": [
              "<Figure size 640x480 with 1 Axes>"
            ]
          },
          "metadata": {},
          "output_type": "display_data"
        }
      ],
      "source": [
        "import matplotlib\n",
        "#print (the_good_ones.reshape(-1,3))\n",
        "the_truth = the_truth.reshape(2,-1)\n",
        "#print (the_good_ones_rect)\n",
        "#matplotlib.pyplot.imshow (the_good_ones.reshape(3,-1))\n",
        "matplotlib.pyplot.imshow (the_truth)\n",
        "\n",
        "#matplotlib.pyplot.imshow (the_good_ones.reshape(5,-1))\n",
        "#matplotlib.pyplot.imshow (the_good_ones.reshape(6,-1))\n",
        "\n",
        "\n",
        "#matplotlib.pyplot.imshow (the_good_ones_rect)"
      ]
    },
    {
      "cell_type": "markdown",
      "metadata": {
        "id": "lQza8RP93Ve9"
      },
      "source": [
        "## Pista 5\n",
        "Los monjes cometieron un error y rompieron la imagen en 6 partes, pero al unirlas nuevamente, equivocaron el orden y las unieron en horizontal en vez de en vertical.\n",
        "- Separa la imagen en 6 partes de manera horizontal\n",
        "- Vuelve a juntar las partes, pero ahora de manera vertical."
      ]
    },
    {
      "cell_type": "code",
      "execution_count": null,
      "metadata": {
        "id": "qeMB2qBn3UQd"
      },
      "outputs": [],
      "source": []
    },
    {
      "cell_type": "markdown",
      "metadata": {
        "id": "xfwadbRL3w1M"
      },
      "source": [
        "## ¡Enhorabuena!\n",
        "Seguramente has encontrado la solución al enigma. Ahora elige tú una imagen y esconde la información de manera similar. No olvides de enlistar los pasos que lleven a volver a obtener la información encontrada."
      ]
    },
    {
      "cell_type": "code",
      "execution_count": null,
      "metadata": {
        "id": "DYiBzuZI4QFF"
      },
      "outputs": [],
      "source": []
    }
  ],
  "metadata": {
    "colab": {
      "provenance": []
    },
    "kernelspec": {
      "display_name": "Python 3",
      "name": "python3"
    },
    "language_info": {
      "codemirror_mode": {
        "name": "ipython",
        "version": 3
      },
      "file_extension": ".py",
      "mimetype": "text/x-python",
      "name": "python",
      "nbconvert_exporter": "python",
      "pygments_lexer": "ipython3",
      "version": "3.11.1"
    }
  },
  "nbformat": 4,
  "nbformat_minor": 0
}
